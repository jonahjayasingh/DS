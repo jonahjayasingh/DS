{
 "cells": [
  {
   "cell_type": "code",
   "execution_count": 60,
   "metadata": {},
   "outputs": [],
   "source": [
    "import pandas as pd \n",
    "import numpy as np\n",
    "import matplotlib.pyplot as plt\n",
    "import seaborn as sns"
   ]
  },
  {
   "cell_type": "code",
   "execution_count": 61,
   "metadata": {},
   "outputs": [],
   "source": [
    "df = pd.read_csv(\"NFLX.csv\")"
   ]
  },
  {
   "cell_type": "code",
   "execution_count": 62,
   "metadata": {},
   "outputs": [
    {
     "data": {
      "text/plain": [
       "Date         0\n",
       "Open         0\n",
       "High         0\n",
       "Low          0\n",
       "Close        0\n",
       "Adj Close    0\n",
       "Volume       0\n",
       "dtype: int64"
      ]
     },
     "execution_count": 62,
     "metadata": {},
     "output_type": "execute_result"
    }
   ],
   "source": [
    "df.isnull().sum()"
   ]
  },
  {
   "cell_type": "code",
   "execution_count": 63,
   "metadata": {},
   "outputs": [
    {
     "data": {
      "application/vnd.microsoft.datawrangler.viewer.v0+json": {
       "columns": [
        {
         "name": "index",
         "rawType": "int64",
         "type": "integer"
        },
        {
         "name": "Date",
         "rawType": "object",
         "type": "string"
        },
        {
         "name": "Open",
         "rawType": "float64",
         "type": "float"
        },
        {
         "name": "High",
         "rawType": "float64",
         "type": "float"
        },
        {
         "name": "Low",
         "rawType": "float64",
         "type": "float"
        },
        {
         "name": "Close",
         "rawType": "float64",
         "type": "float"
        },
        {
         "name": "Adj Close",
         "rawType": "float64",
         "type": "float"
        },
        {
         "name": "Volume",
         "rawType": "int64",
         "type": "integer"
        }
       ],
       "conversionMethod": "pd.DataFrame",
       "ref": "aa78727c-528b-44ce-b0a6-fbcf3a8a7959",
       "rows": [
        [
         "0",
         "2018-02-05",
         "262.0",
         "267.899994",
         "250.029999",
         "254.259995",
         "254.259995",
         "11896100"
        ],
        [
         "1",
         "2018-02-06",
         "247.699997",
         "266.700012",
         "245.0",
         "265.720001",
         "265.720001",
         "12595800"
        ],
        [
         "2",
         "2018-02-07",
         "266.579987",
         "272.450012",
         "264.329987",
         "264.559998",
         "264.559998",
         "8981500"
        ],
        [
         "3",
         "2018-02-08",
         "267.079987",
         "267.619995",
         "250.0",
         "250.100006",
         "250.100006",
         "9306700"
        ],
        [
         "4",
         "2018-02-09",
         "253.850006",
         "255.800003",
         "236.110001",
         "249.470001",
         "249.470001",
         "16906900"
        ],
        [
         "5",
         "2018-02-12",
         "252.139999",
         "259.149994",
         "249.0",
         "257.950012",
         "257.950012",
         "8534900"
        ],
        [
         "6",
         "2018-02-13",
         "257.290009",
         "261.410004",
         "254.699997",
         "258.269989",
         "258.269989",
         "6855200"
        ],
        [
         "7",
         "2018-02-14",
         "260.470001",
         "269.880005",
         "260.329987",
         "266.0",
         "266.0",
         "10972000"
        ],
        [
         "8",
         "2018-02-15",
         "270.029999",
         "280.5",
         "267.630005",
         "280.269989",
         "280.269989",
         "10759700"
        ],
        [
         "9",
         "2018-02-16",
         "278.730011",
         "281.959991",
         "275.690002",
         "278.519989",
         "278.519989",
         "8312400"
        ],
        [
         "10",
         "2018-02-20",
         "277.73999",
         "285.809998",
         "276.609985",
         "278.549988",
         "278.549988",
         "7769000"
        ],
        [
         "11",
         "2018-02-21",
         "282.070007",
         "286.640015",
         "280.01001",
         "281.040009",
         "281.040009",
         "9371100"
        ],
        [
         "12",
         "2018-02-22",
         "283.880005",
         "284.5",
         "274.450012",
         "278.140015",
         "278.140015",
         "8891500"
        ],
        [
         "13",
         "2018-02-23",
         "281.0",
         "286.0",
         "277.809998",
         "285.929993",
         "285.929993",
         "7301800"
        ],
        [
         "14",
         "2018-02-26",
         "288.75",
         "295.649994",
         "287.01001",
         "294.160004",
         "294.160004",
         "10268600"
        ],
        [
         "15",
         "2018-02-27",
         "294.769989",
         "297.359985",
         "290.589996",
         "290.609985",
         "290.609985",
         "9416500"
        ],
        [
         "16",
         "2018-02-28",
         "293.100006",
         "295.75",
         "290.779999",
         "291.380005",
         "291.380005",
         "7653500"
        ],
        [
         "17",
         "2018-03-01",
         "292.75",
         "295.25",
         "283.829987",
         "290.390015",
         "290.390015",
         "11932100"
        ],
        [
         "18",
         "2018-03-02",
         "284.649994",
         "301.179993",
         "283.230011",
         "301.049988",
         "301.049988",
         "13345300"
        ],
        [
         "19",
         "2018-03-05",
         "302.850006",
         "316.910004",
         "297.600006",
         "315.0",
         "315.0",
         "18986100"
        ],
        [
         "20",
         "2018-03-06",
         "319.880005",
         "325.790009",
         "316.5",
         "325.220001",
         "325.220001",
         "18525800"
        ],
        [
         "21",
         "2018-03-07",
         "320.0",
         "323.73999",
         "314.549988",
         "321.160004",
         "321.160004",
         "17132200"
        ],
        [
         "22",
         "2018-03-08",
         "322.200012",
         "322.920013",
         "314.130005",
         "317.0",
         "317.0",
         "11340100"
        ],
        [
         "23",
         "2018-03-09",
         "321.329987",
         "331.440002",
         "320.230011",
         "331.440002",
         "331.440002",
         "14500200"
        ],
        [
         "24",
         "2018-03-12",
         "333.559998",
         "333.980011",
         "318.600006",
         "321.299988",
         "321.299988",
         "20369200"
        ],
        [
         "25",
         "2018-03-13",
         "323.869995",
         "325.839996",
         "313.279999",
         "315.880005",
         "315.880005",
         "12917200"
        ],
        [
         "26",
         "2018-03-14",
         "318.160004",
         "323.880005",
         "317.700012",
         "321.549988",
         "321.549988",
         "10475100"
        ],
        [
         "27",
         "2018-03-15",
         "323.170013",
         "323.399994",
         "318.140015",
         "321.089996",
         "321.089996",
         "5642900"
        ],
        [
         "28",
         "2018-03-16",
         "321.420013",
         "324.109985",
         "318.369995",
         "318.450012",
         "318.450012",
         "7333700"
        ],
        [
         "29",
         "2018-03-19",
         "315.799988",
         "317.0",
         "307.339996",
         "313.480011",
         "313.480011",
         "9925200"
        ],
        [
         "30",
         "2018-03-20",
         "313.26001",
         "319.5",
         "312.799988",
         "317.5",
         "317.5",
         "5991900"
        ],
        [
         "31",
         "2018-03-21",
         "316.350006",
         "319.399994",
         "314.51001",
         "316.480011",
         "316.480011",
         "5263900"
        ],
        [
         "32",
         "2018-03-22",
         "313.070007",
         "314.119995",
         "305.660004",
         "306.700012",
         "306.700012",
         "8063300"
        ],
        [
         "33",
         "2018-03-23",
         "307.410004",
         "309.369995",
         "300.359985",
         "300.940002",
         "300.940002",
         "9529900"
        ],
        [
         "34",
         "2018-03-26",
         "309.359985",
         "321.029999",
         "302.0",
         "320.350006",
         "320.350006",
         "11988300"
        ],
        [
         "35",
         "2018-03-27",
         "322.48999",
         "322.899994",
         "297.0",
         "300.690002",
         "300.690002",
         "12068600"
        ],
        [
         "36",
         "2018-03-28",
         "298.390015",
         "298.799988",
         "281.609985",
         "285.769989",
         "285.769989",
         "18972900"
        ],
        [
         "37",
         "2018-03-29",
         "287.0",
         "295.350006",
         "275.899994",
         "295.350006",
         "295.350006",
         "19145500"
        ],
        [
         "38",
         "2018-04-02",
         "291.940002",
         "292.869995",
         "275.049988",
         "280.290009",
         "280.290009",
         "13405800"
        ],
        [
         "39",
         "2018-04-03",
         "285.450012",
         "291.25",
         "278.01001",
         "283.670013",
         "283.670013",
         "12694900"
        ],
        [
         "40",
         "2018-04-04",
         "273.630005",
         "290.309998",
         "271.220001",
         "288.940002",
         "288.940002",
         "12914000"
        ],
        [
         "41",
         "2018-04-05",
         "293.149994",
         "299.160004",
         "289.109985",
         "293.970001",
         "293.970001",
         "10655200"
        ],
        [
         "42",
         "2018-04-06",
         "289.100006",
         "298.850006",
         "285.649994",
         "288.850006",
         "288.850006",
         "11444800"
        ],
        [
         "43",
         "2018-04-09",
         "291.769989",
         "299.549988",
         "289.119995",
         "289.929993",
         "289.929993",
         "9853600"
        ],
        [
         "44",
         "2018-04-10",
         "297.679993",
         "298.950012",
         "291.690002",
         "298.070007",
         "298.070007",
         "10660500"
        ],
        [
         "45",
         "2018-04-11",
         "302.880005",
         "311.640015",
         "301.820007",
         "303.670013",
         "303.670013",
         "14877400"
        ],
        [
         "46",
         "2018-04-12",
         "309.720001",
         "311.130005",
         "306.75",
         "309.25",
         "309.25",
         "10249400"
        ],
        [
         "47",
         "2018-04-13",
         "317.290009",
         "317.48999",
         "308.230011",
         "311.649994",
         "311.649994",
         "12046600"
        ],
        [
         "48",
         "2018-04-16",
         "315.98999",
         "316.100006",
         "304.0",
         "307.779999",
         "307.779999",
         "20307900"
        ],
        [
         "49",
         "2018-04-17",
         "329.660004",
         "338.619995",
         "323.769989",
         "336.059998",
         "336.059998",
         "33866500"
        ]
       ],
       "shape": {
        "columns": 7,
        "rows": 1009
       }
      },
      "text/html": [
       "<div>\n",
       "<style scoped>\n",
       "    .dataframe tbody tr th:only-of-type {\n",
       "        vertical-align: middle;\n",
       "    }\n",
       "\n",
       "    .dataframe tbody tr th {\n",
       "        vertical-align: top;\n",
       "    }\n",
       "\n",
       "    .dataframe thead th {\n",
       "        text-align: right;\n",
       "    }\n",
       "</style>\n",
       "<table border=\"1\" class=\"dataframe\">\n",
       "  <thead>\n",
       "    <tr style=\"text-align: right;\">\n",
       "      <th></th>\n",
       "      <th>Date</th>\n",
       "      <th>Open</th>\n",
       "      <th>High</th>\n",
       "      <th>Low</th>\n",
       "      <th>Close</th>\n",
       "      <th>Adj Close</th>\n",
       "      <th>Volume</th>\n",
       "    </tr>\n",
       "  </thead>\n",
       "  <tbody>\n",
       "    <tr>\n",
       "      <th>0</th>\n",
       "      <td>2018-02-05</td>\n",
       "      <td>262.000000</td>\n",
       "      <td>267.899994</td>\n",
       "      <td>250.029999</td>\n",
       "      <td>254.259995</td>\n",
       "      <td>254.259995</td>\n",
       "      <td>11896100</td>\n",
       "    </tr>\n",
       "    <tr>\n",
       "      <th>1</th>\n",
       "      <td>2018-02-06</td>\n",
       "      <td>247.699997</td>\n",
       "      <td>266.700012</td>\n",
       "      <td>245.000000</td>\n",
       "      <td>265.720001</td>\n",
       "      <td>265.720001</td>\n",
       "      <td>12595800</td>\n",
       "    </tr>\n",
       "    <tr>\n",
       "      <th>2</th>\n",
       "      <td>2018-02-07</td>\n",
       "      <td>266.579987</td>\n",
       "      <td>272.450012</td>\n",
       "      <td>264.329987</td>\n",
       "      <td>264.559998</td>\n",
       "      <td>264.559998</td>\n",
       "      <td>8981500</td>\n",
       "    </tr>\n",
       "    <tr>\n",
       "      <th>3</th>\n",
       "      <td>2018-02-08</td>\n",
       "      <td>267.079987</td>\n",
       "      <td>267.619995</td>\n",
       "      <td>250.000000</td>\n",
       "      <td>250.100006</td>\n",
       "      <td>250.100006</td>\n",
       "      <td>9306700</td>\n",
       "    </tr>\n",
       "    <tr>\n",
       "      <th>4</th>\n",
       "      <td>2018-02-09</td>\n",
       "      <td>253.850006</td>\n",
       "      <td>255.800003</td>\n",
       "      <td>236.110001</td>\n",
       "      <td>249.470001</td>\n",
       "      <td>249.470001</td>\n",
       "      <td>16906900</td>\n",
       "    </tr>\n",
       "    <tr>\n",
       "      <th>...</th>\n",
       "      <td>...</td>\n",
       "      <td>...</td>\n",
       "      <td>...</td>\n",
       "      <td>...</td>\n",
       "      <td>...</td>\n",
       "      <td>...</td>\n",
       "      <td>...</td>\n",
       "    </tr>\n",
       "    <tr>\n",
       "      <th>1004</th>\n",
       "      <td>2022-01-31</td>\n",
       "      <td>401.970001</td>\n",
       "      <td>427.700012</td>\n",
       "      <td>398.200012</td>\n",
       "      <td>427.140015</td>\n",
       "      <td>427.140015</td>\n",
       "      <td>20047500</td>\n",
       "    </tr>\n",
       "    <tr>\n",
       "      <th>1005</th>\n",
       "      <td>2022-02-01</td>\n",
       "      <td>432.959991</td>\n",
       "      <td>458.480011</td>\n",
       "      <td>425.540009</td>\n",
       "      <td>457.130005</td>\n",
       "      <td>457.130005</td>\n",
       "      <td>22542300</td>\n",
       "    </tr>\n",
       "    <tr>\n",
       "      <th>1006</th>\n",
       "      <td>2022-02-02</td>\n",
       "      <td>448.250000</td>\n",
       "      <td>451.980011</td>\n",
       "      <td>426.480011</td>\n",
       "      <td>429.480011</td>\n",
       "      <td>429.480011</td>\n",
       "      <td>14346000</td>\n",
       "    </tr>\n",
       "    <tr>\n",
       "      <th>1007</th>\n",
       "      <td>2022-02-03</td>\n",
       "      <td>421.440002</td>\n",
       "      <td>429.260010</td>\n",
       "      <td>404.279999</td>\n",
       "      <td>405.600006</td>\n",
       "      <td>405.600006</td>\n",
       "      <td>9905200</td>\n",
       "    </tr>\n",
       "    <tr>\n",
       "      <th>1008</th>\n",
       "      <td>2022-02-04</td>\n",
       "      <td>407.309998</td>\n",
       "      <td>412.769989</td>\n",
       "      <td>396.640015</td>\n",
       "      <td>410.170013</td>\n",
       "      <td>410.170013</td>\n",
       "      <td>7782400</td>\n",
       "    </tr>\n",
       "  </tbody>\n",
       "</table>\n",
       "<p>1009 rows × 7 columns</p>\n",
       "</div>"
      ],
      "text/plain": [
       "            Date        Open        High         Low       Close   Adj Close  \\\n",
       "0     2018-02-05  262.000000  267.899994  250.029999  254.259995  254.259995   \n",
       "1     2018-02-06  247.699997  266.700012  245.000000  265.720001  265.720001   \n",
       "2     2018-02-07  266.579987  272.450012  264.329987  264.559998  264.559998   \n",
       "3     2018-02-08  267.079987  267.619995  250.000000  250.100006  250.100006   \n",
       "4     2018-02-09  253.850006  255.800003  236.110001  249.470001  249.470001   \n",
       "...          ...         ...         ...         ...         ...         ...   \n",
       "1004  2022-01-31  401.970001  427.700012  398.200012  427.140015  427.140015   \n",
       "1005  2022-02-01  432.959991  458.480011  425.540009  457.130005  457.130005   \n",
       "1006  2022-02-02  448.250000  451.980011  426.480011  429.480011  429.480011   \n",
       "1007  2022-02-03  421.440002  429.260010  404.279999  405.600006  405.600006   \n",
       "1008  2022-02-04  407.309998  412.769989  396.640015  410.170013  410.170013   \n",
       "\n",
       "        Volume  \n",
       "0     11896100  \n",
       "1     12595800  \n",
       "2      8981500  \n",
       "3      9306700  \n",
       "4     16906900  \n",
       "...        ...  \n",
       "1004  20047500  \n",
       "1005  22542300  \n",
       "1006  14346000  \n",
       "1007   9905200  \n",
       "1008   7782400  \n",
       "\n",
       "[1009 rows x 7 columns]"
      ]
     },
     "execution_count": 63,
     "metadata": {},
     "output_type": "execute_result"
    }
   ],
   "source": [
    "df "
   ]
  },
  {
   "cell_type": "code",
   "execution_count": 64,
   "metadata": {},
   "outputs": [
    {
     "data": {
      "text/plain": [
       "Index(['Date', 'Open', 'High', 'Low', 'Close', 'Adj Close', 'Volume'], dtype='object')"
      ]
     },
     "execution_count": 64,
     "metadata": {},
     "output_type": "execute_result"
    }
   ],
   "source": [
    "df.columns"
   ]
  },
  {
   "cell_type": "code",
   "execution_count": 65,
   "metadata": {},
   "outputs": [],
   "source": [
    "df = df[['Open', 'High', 'Low', 'Close']]"
   ]
  },
  {
   "cell_type": "code",
   "execution_count": 66,
   "metadata": {},
   "outputs": [
    {
     "name": "stdout",
     "output_type": "stream",
     "text": [
      "<class 'pandas.core.frame.DataFrame'>\n",
      "RangeIndex: 1009 entries, 0 to 1008\n",
      "Data columns (total 4 columns):\n",
      " #   Column  Non-Null Count  Dtype  \n",
      "---  ------  --------------  -----  \n",
      " 0   Open    1009 non-null   float64\n",
      " 1   High    1009 non-null   float64\n",
      " 2   Low     1009 non-null   float64\n",
      " 3   Close   1009 non-null   float64\n",
      "dtypes: float64(4)\n",
      "memory usage: 31.7 KB\n"
     ]
    }
   ],
   "source": [
    "df.info()"
   ]
  },
  {
   "cell_type": "code",
   "execution_count": 67,
   "metadata": {},
   "outputs": [],
   "source": [
    "df = df.round(1)"
   ]
  },
  {
   "cell_type": "code",
   "execution_count": 68,
   "metadata": {},
   "outputs": [],
   "source": [
    "\n",
    "# df[\"Close/Last\"] = df[\"Close/Last\"].applY(lambda x: str(x).split(\"$\")[1] ).astYpe(float)\n",
    "# df[\"Open\"] = df[\"Open\"].applY(lambda x: str(x).split(\"$\")[1] ).astYpe(float)\n",
    "# df[\"High\"] = df[\"High\"].applY(lambda x: str(x).split(\"$\")[1] ).astYpe(float)\n",
    "# df[\"Low\"] = df[\"Low\"].applY(lambda x: str(x).split(\"$\")[1] ).astYpe(float)"
   ]
  },
  {
   "cell_type": "code",
   "execution_count": 69,
   "metadata": {},
   "outputs": [
    {
     "data": {
      "application/vnd.microsoft.datawrangler.viewer.v0+json": {
       "columns": [
        {
         "name": "index",
         "rawType": "int64",
         "type": "integer"
        },
        {
         "name": "Open",
         "rawType": "float64",
         "type": "float"
        },
        {
         "name": "High",
         "rawType": "float64",
         "type": "float"
        },
        {
         "name": "Low",
         "rawType": "float64",
         "type": "float"
        },
        {
         "name": "Close",
         "rawType": "float64",
         "type": "float"
        }
       ],
       "conversionMethod": "pd.DataFrame",
       "ref": "98d5e168-7cb7-4a25-ae8d-9d672c8bd543",
       "rows": [
        [
         "0",
         "262.0",
         "267.9",
         "250.0",
         "254.3"
        ],
        [
         "1",
         "247.7",
         "266.7",
         "245.0",
         "265.7"
        ],
        [
         "2",
         "266.6",
         "272.5",
         "264.3",
         "264.6"
        ],
        [
         "3",
         "267.1",
         "267.6",
         "250.0",
         "250.1"
        ],
        [
         "4",
         "253.9",
         "255.8",
         "236.1",
         "249.5"
        ],
        [
         "5",
         "252.1",
         "259.1",
         "249.0",
         "258.0"
        ],
        [
         "6",
         "257.3",
         "261.4",
         "254.7",
         "258.3"
        ],
        [
         "7",
         "260.5",
         "269.9",
         "260.3",
         "266.0"
        ],
        [
         "8",
         "270.0",
         "280.5",
         "267.6",
         "280.3"
        ],
        [
         "9",
         "278.7",
         "282.0",
         "275.7",
         "278.5"
        ],
        [
         "10",
         "277.7",
         "285.8",
         "276.6",
         "278.5"
        ],
        [
         "11",
         "282.1",
         "286.6",
         "280.0",
         "281.0"
        ],
        [
         "12",
         "283.9",
         "284.5",
         "274.5",
         "278.1"
        ],
        [
         "13",
         "281.0",
         "286.0",
         "277.8",
         "285.9"
        ],
        [
         "14",
         "288.8",
         "295.6",
         "287.0",
         "294.2"
        ],
        [
         "15",
         "294.8",
         "297.4",
         "290.6",
         "290.6"
        ],
        [
         "16",
         "293.1",
         "295.8",
         "290.8",
         "291.4"
        ],
        [
         "17",
         "292.8",
         "295.2",
         "283.8",
         "290.4"
        ],
        [
         "18",
         "284.6",
         "301.2",
         "283.2",
         "301.0"
        ],
        [
         "19",
         "302.9",
         "316.9",
         "297.6",
         "315.0"
        ],
        [
         "20",
         "319.9",
         "325.8",
         "316.5",
         "325.2"
        ],
        [
         "21",
         "320.0",
         "323.7",
         "314.5",
         "321.2"
        ],
        [
         "22",
         "322.2",
         "322.9",
         "314.1",
         "317.0"
        ],
        [
         "23",
         "321.3",
         "331.4",
         "320.2",
         "331.4"
        ],
        [
         "24",
         "333.6",
         "334.0",
         "318.6",
         "321.3"
        ],
        [
         "25",
         "323.9",
         "325.8",
         "313.3",
         "315.9"
        ],
        [
         "26",
         "318.2",
         "323.9",
         "317.7",
         "321.5"
        ],
        [
         "27",
         "323.2",
         "323.4",
         "318.1",
         "321.1"
        ],
        [
         "28",
         "321.4",
         "324.1",
         "318.4",
         "318.5"
        ],
        [
         "29",
         "315.8",
         "317.0",
         "307.3",
         "313.5"
        ],
        [
         "30",
         "313.3",
         "319.5",
         "312.8",
         "317.5"
        ],
        [
         "31",
         "316.4",
         "319.4",
         "314.5",
         "316.5"
        ],
        [
         "32",
         "313.1",
         "314.1",
         "305.7",
         "306.7"
        ],
        [
         "33",
         "307.4",
         "309.4",
         "300.4",
         "300.9"
        ],
        [
         "34",
         "309.4",
         "321.0",
         "302.0",
         "320.4"
        ],
        [
         "35",
         "322.5",
         "322.9",
         "297.0",
         "300.7"
        ],
        [
         "36",
         "298.4",
         "298.8",
         "281.6",
         "285.8"
        ],
        [
         "37",
         "287.0",
         "295.4",
         "275.9",
         "295.4"
        ],
        [
         "38",
         "291.9",
         "292.9",
         "275.0",
         "280.3"
        ],
        [
         "39",
         "285.5",
         "291.2",
         "278.0",
         "283.7"
        ],
        [
         "40",
         "273.6",
         "290.3",
         "271.2",
         "288.9"
        ],
        [
         "41",
         "293.1",
         "299.2",
         "289.1",
         "294.0"
        ],
        [
         "42",
         "289.1",
         "298.9",
         "285.6",
         "288.9"
        ],
        [
         "43",
         "291.8",
         "299.5",
         "289.1",
         "289.9"
        ],
        [
         "44",
         "297.7",
         "299.0",
         "291.7",
         "298.1"
        ],
        [
         "45",
         "302.9",
         "311.6",
         "301.8",
         "303.7"
        ],
        [
         "46",
         "309.7",
         "311.1",
         "306.8",
         "309.2"
        ],
        [
         "47",
         "317.3",
         "317.5",
         "308.2",
         "311.6"
        ],
        [
         "48",
         "316.0",
         "316.1",
         "304.0",
         "307.8"
        ],
        [
         "49",
         "329.7",
         "338.6",
         "323.8",
         "336.1"
        ]
       ],
       "shape": {
        "columns": 4,
        "rows": 1009
       }
      },
      "text/html": [
       "<div>\n",
       "<style scoped>\n",
       "    .dataframe tbody tr th:only-of-type {\n",
       "        vertical-align: middle;\n",
       "    }\n",
       "\n",
       "    .dataframe tbody tr th {\n",
       "        vertical-align: top;\n",
       "    }\n",
       "\n",
       "    .dataframe thead th {\n",
       "        text-align: right;\n",
       "    }\n",
       "</style>\n",
       "<table border=\"1\" class=\"dataframe\">\n",
       "  <thead>\n",
       "    <tr style=\"text-align: right;\">\n",
       "      <th></th>\n",
       "      <th>Open</th>\n",
       "      <th>High</th>\n",
       "      <th>Low</th>\n",
       "      <th>Close</th>\n",
       "    </tr>\n",
       "  </thead>\n",
       "  <tbody>\n",
       "    <tr>\n",
       "      <th>0</th>\n",
       "      <td>262.0</td>\n",
       "      <td>267.9</td>\n",
       "      <td>250.0</td>\n",
       "      <td>254.3</td>\n",
       "    </tr>\n",
       "    <tr>\n",
       "      <th>1</th>\n",
       "      <td>247.7</td>\n",
       "      <td>266.7</td>\n",
       "      <td>245.0</td>\n",
       "      <td>265.7</td>\n",
       "    </tr>\n",
       "    <tr>\n",
       "      <th>2</th>\n",
       "      <td>266.6</td>\n",
       "      <td>272.5</td>\n",
       "      <td>264.3</td>\n",
       "      <td>264.6</td>\n",
       "    </tr>\n",
       "    <tr>\n",
       "      <th>3</th>\n",
       "      <td>267.1</td>\n",
       "      <td>267.6</td>\n",
       "      <td>250.0</td>\n",
       "      <td>250.1</td>\n",
       "    </tr>\n",
       "    <tr>\n",
       "      <th>4</th>\n",
       "      <td>253.9</td>\n",
       "      <td>255.8</td>\n",
       "      <td>236.1</td>\n",
       "      <td>249.5</td>\n",
       "    </tr>\n",
       "    <tr>\n",
       "      <th>...</th>\n",
       "      <td>...</td>\n",
       "      <td>...</td>\n",
       "      <td>...</td>\n",
       "      <td>...</td>\n",
       "    </tr>\n",
       "    <tr>\n",
       "      <th>1004</th>\n",
       "      <td>402.0</td>\n",
       "      <td>427.7</td>\n",
       "      <td>398.2</td>\n",
       "      <td>427.1</td>\n",
       "    </tr>\n",
       "    <tr>\n",
       "      <th>1005</th>\n",
       "      <td>433.0</td>\n",
       "      <td>458.5</td>\n",
       "      <td>425.5</td>\n",
       "      <td>457.1</td>\n",
       "    </tr>\n",
       "    <tr>\n",
       "      <th>1006</th>\n",
       "      <td>448.2</td>\n",
       "      <td>452.0</td>\n",
       "      <td>426.5</td>\n",
       "      <td>429.5</td>\n",
       "    </tr>\n",
       "    <tr>\n",
       "      <th>1007</th>\n",
       "      <td>421.4</td>\n",
       "      <td>429.3</td>\n",
       "      <td>404.3</td>\n",
       "      <td>405.6</td>\n",
       "    </tr>\n",
       "    <tr>\n",
       "      <th>1008</th>\n",
       "      <td>407.3</td>\n",
       "      <td>412.8</td>\n",
       "      <td>396.6</td>\n",
       "      <td>410.2</td>\n",
       "    </tr>\n",
       "  </tbody>\n",
       "</table>\n",
       "<p>1009 rows × 4 columns</p>\n",
       "</div>"
      ],
      "text/plain": [
       "       Open   High    Low  Close\n",
       "0     262.0  267.9  250.0  254.3\n",
       "1     247.7  266.7  245.0  265.7\n",
       "2     266.6  272.5  264.3  264.6\n",
       "3     267.1  267.6  250.0  250.1\n",
       "4     253.9  255.8  236.1  249.5\n",
       "...     ...    ...    ...    ...\n",
       "1004  402.0  427.7  398.2  427.1\n",
       "1005  433.0  458.5  425.5  457.1\n",
       "1006  448.2  452.0  426.5  429.5\n",
       "1007  421.4  429.3  404.3  405.6\n",
       "1008  407.3  412.8  396.6  410.2\n",
       "\n",
       "[1009 rows x 4 columns]"
      ]
     },
     "execution_count": 69,
     "metadata": {},
     "output_type": "execute_result"
    }
   ],
   "source": [
    "df"
   ]
  },
  {
   "cell_type": "code",
   "execution_count": 70,
   "metadata": {},
   "outputs": [],
   "source": [
    "# sns.histplot(df[\"High\"])"
   ]
  },
  {
   "cell_type": "code",
   "execution_count": 71,
   "metadata": {},
   "outputs": [
    {
     "data": {
      "text/plain": [
       "<Axes: >"
      ]
     },
     "execution_count": 71,
     "metadata": {},
     "output_type": "execute_result"
    },
    {
     "data": {
      "image/png": "[encoded data removed]",
      "text/plain": [
       "<Figure size 1500x800 with 1 Axes>"
      ]
     },
     "metadata": {},
     "output_type": "display_data"
    }
   ],
   "source": [
    "plt.figure(figsize=(15,8))\n",
    "sns.lineplot(data=df, palette=\"tab10\", linewidth=2.5)"
   ]
  },
  {
   "cell_type": "code",
   "execution_count": 72,
   "metadata": {},
   "outputs": [
    {
     "data": {
      "application/vnd.microsoft.datawrangler.viewer.v0+json": {
       "columns": [
        {
         "name": "index",
         "rawType": "object",
         "type": "string"
        },
        {
         "name": "Open",
         "rawType": "float64",
         "type": "float"
        },
        {
         "name": "High",
         "rawType": "float64",
         "type": "float"
        },
        {
         "name": "Low",
         "rawType": "float64",
         "type": "float"
        },
        {
         "name": "Close",
         "rawType": "float64",
         "type": "float"
        }
       ],
       "conversionMethod": "pd.DataFrame",
       "ref": "ffd09b49-03e1-463f-8a00-47cb01f10931",
       "rows": [
        [
         "Open",
         "1.0",
         "0.9986044357986062",
         "0.9985082981101263",
         "0.9968116321418696"
        ],
        [
         "High",
         "0.9986044357986062",
         "1.0",
         "0.9982029808722773",
         "0.998550930727779"
        ],
        [
         "Low",
         "0.9985082981101263",
         "0.9982029808722773",
         "1.0",
         "0.9985444476262995"
        ],
        [
         "Close",
         "0.9968116321418696",
         "0.998550930727779",
         "0.9985444476262995",
         "1.0"
        ]
       ],
       "shape": {
        "columns": 4,
        "rows": 4
       }
      },
      "text/html": [
       "<div>\n",
       "<style scoped>\n",
       "    .dataframe tbody tr th:only-of-type {\n",
       "        vertical-align: middle;\n",
       "    }\n",
       "\n",
       "    .dataframe tbody tr th {\n",
       "        vertical-align: top;\n",
       "    }\n",
       "\n",
       "    .dataframe thead th {\n",
       "        text-align: right;\n",
       "    }\n",
       "</style>\n",
       "<table border=\"1\" class=\"dataframe\">\n",
       "  <thead>\n",
       "    <tr style=\"text-align: right;\">\n",
       "      <th></th>\n",
       "      <th>Open</th>\n",
       "      <th>High</th>\n",
       "      <th>Low</th>\n",
       "      <th>Close</th>\n",
       "    </tr>\n",
       "  </thead>\n",
       "  <tbody>\n",
       "    <tr>\n",
       "      <th>Open</th>\n",
       "      <td>1.000000</td>\n",
       "      <td>0.998604</td>\n",
       "      <td>0.998508</td>\n",
       "      <td>0.996812</td>\n",
       "    </tr>\n",
       "    <tr>\n",
       "      <th>High</th>\n",
       "      <td>0.998604</td>\n",
       "      <td>1.000000</td>\n",
       "      <td>0.998203</td>\n",
       "      <td>0.998551</td>\n",
       "    </tr>\n",
       "    <tr>\n",
       "      <th>Low</th>\n",
       "      <td>0.998508</td>\n",
       "      <td>0.998203</td>\n",
       "      <td>1.000000</td>\n",
       "      <td>0.998544</td>\n",
       "    </tr>\n",
       "    <tr>\n",
       "      <th>Close</th>\n",
       "      <td>0.996812</td>\n",
       "      <td>0.998551</td>\n",
       "      <td>0.998544</td>\n",
       "      <td>1.000000</td>\n",
       "    </tr>\n",
       "  </tbody>\n",
       "</table>\n",
       "</div>"
      ],
      "text/plain": [
       "           Open      High       Low     Close\n",
       "Open   1.000000  0.998604  0.998508  0.996812\n",
       "High   0.998604  1.000000  0.998203  0.998551\n",
       "Low    0.998508  0.998203  1.000000  0.998544\n",
       "Close  0.996812  0.998551  0.998544  1.000000"
      ]
     },
     "execution_count": 72,
     "metadata": {},
     "output_type": "execute_result"
    }
   ],
   "source": [
    "df.corr()"
   ]
  },
  {
   "cell_type": "code",
   "execution_count": 73,
   "metadata": {},
   "outputs": [
    {
     "data": {
      "text/plain": [
       "<Axes: >"
      ]
     },
     "execution_count": 73,
     "metadata": {},
     "output_type": "execute_result"
    },
    {
     "data": {
      "image/png": "[encoded data removed]",
      "text/plain": [
       "<Figure size 1500x800 with 2 Axes>"
      ]
     },
     "metadata": {},
     "output_type": "display_data"
    }
   ],
   "source": [
    "plt.figure(figsize=(15,8))\n",
    "sns.heatmap(df.corr(),annot=True,linewidths=.5)"
   ]
  },
  {
   "cell_type": "code",
   "execution_count": 74,
   "metadata": {},
   "outputs": [
    {
     "data": {
      "text/plain": [
       "Index(['Open', 'High', 'Low', 'Close'], dtype='object')"
      ]
     },
     "execution_count": 74,
     "metadata": {},
     "output_type": "execute_result"
    }
   ],
   "source": [
    "df.columns"
   ]
  },
  {
   "cell_type": "code",
   "execution_count": 75,
   "metadata": {},
   "outputs": [],
   "source": [
    "# from sklearn import preprocessing\n",
    "# le = preprocessing.LabelEncoder()\n",
    "# df[\"Open\"] = le.fit_transform(df[\"Open\"])\n",
    "# df[\"High\"] = le.fit_transform(df[\"High\"])\n",
    "# df[\"Low\"] = le.fit_transform(df[\"Low\"])\n",
    "# df[\"Close\"] = le.fit_transform(df[\"Close\"])"
   ]
  },
  {
   "cell_type": "code",
   "execution_count": 76,
   "metadata": {},
   "outputs": [
    {
     "data": {
      "application/vnd.microsoft.datawrangler.viewer.v0+json": {
       "columns": [
        {
         "name": "index",
         "rawType": "int64",
         "type": "integer"
        },
        {
         "name": "Open",
         "rawType": "float64",
         "type": "float"
        },
        {
         "name": "High",
         "rawType": "float64",
         "type": "float"
        },
        {
         "name": "Low",
         "rawType": "float64",
         "type": "float"
        },
        {
         "name": "Close",
         "rawType": "float64",
         "type": "float"
        }
       ],
       "conversionMethod": "pd.DataFrame",
       "ref": "ddc918ef-211b-4c1a-a2f7-cdde0718d446",
       "rows": [
        [
         "0",
         "262.0",
         "267.9",
         "250.0",
         "254.3"
        ],
        [
         "1",
         "247.7",
         "266.7",
         "245.0",
         "265.7"
        ],
        [
         "2",
         "266.6",
         "272.5",
         "264.3",
         "264.6"
        ],
        [
         "3",
         "267.1",
         "267.6",
         "250.0",
         "250.1"
        ],
        [
         "4",
         "253.9",
         "255.8",
         "236.1",
         "249.5"
        ],
        [
         "5",
         "252.1",
         "259.1",
         "249.0",
         "258.0"
        ],
        [
         "6",
         "257.3",
         "261.4",
         "254.7",
         "258.3"
        ],
        [
         "7",
         "260.5",
         "269.9",
         "260.3",
         "266.0"
        ],
        [
         "8",
         "270.0",
         "280.5",
         "267.6",
         "280.3"
        ],
        [
         "9",
         "278.7",
         "282.0",
         "275.7",
         "278.5"
        ],
        [
         "10",
         "277.7",
         "285.8",
         "276.6",
         "278.5"
        ],
        [
         "11",
         "282.1",
         "286.6",
         "280.0",
         "281.0"
        ],
        [
         "12",
         "283.9",
         "284.5",
         "274.5",
         "278.1"
        ],
        [
         "13",
         "281.0",
         "286.0",
         "277.8",
         "285.9"
        ],
        [
         "14",
         "288.8",
         "295.6",
         "287.0",
         "294.2"
        ],
        [
         "15",
         "294.8",
         "297.4",
         "290.6",
         "290.6"
        ],
        [
         "16",
         "293.1",
         "295.8",
         "290.8",
         "291.4"
        ],
        [
         "17",
         "292.8",
         "295.2",
         "283.8",
         "290.4"
        ],
        [
         "18",
         "284.6",
         "301.2",
         "283.2",
         "301.0"
        ],
        [
         "19",
         "302.9",
         "316.9",
         "297.6",
         "315.0"
        ],
        [
         "20",
         "319.9",
         "325.8",
         "316.5",
         "325.2"
        ],
        [
         "21",
         "320.0",
         "323.7",
         "314.5",
         "321.2"
        ],
        [
         "22",
         "322.2",
         "322.9",
         "314.1",
         "317.0"
        ],
        [
         "23",
         "321.3",
         "331.4",
         "320.2",
         "331.4"
        ],
        [
         "24",
         "333.6",
         "334.0",
         "318.6",
         "321.3"
        ],
        [
         "25",
         "323.9",
         "325.8",
         "313.3",
         "315.9"
        ],
        [
         "26",
         "318.2",
         "323.9",
         "317.7",
         "321.5"
        ],
        [
         "27",
         "323.2",
         "323.4",
         "318.1",
         "321.1"
        ],
        [
         "28",
         "321.4",
         "324.1",
         "318.4",
         "318.5"
        ],
        [
         "29",
         "315.8",
         "317.0",
         "307.3",
         "313.5"
        ],
        [
         "30",
         "313.3",
         "319.5",
         "312.8",
         "317.5"
        ],
        [
         "31",
         "316.4",
         "319.4",
         "314.5",
         "316.5"
        ],
        [
         "32",
         "313.1",
         "314.1",
         "305.7",
         "306.7"
        ],
        [
         "33",
         "307.4",
         "309.4",
         "300.4",
         "300.9"
        ],
        [
         "34",
         "309.4",
         "321.0",
         "302.0",
         "320.4"
        ],
        [
         "35",
         "322.5",
         "322.9",
         "297.0",
         "300.7"
        ],
        [
         "36",
         "298.4",
         "298.8",
         "281.6",
         "285.8"
        ],
        [
         "37",
         "287.0",
         "295.4",
         "275.9",
         "295.4"
        ],
        [
         "38",
         "291.9",
         "292.9",
         "275.0",
         "280.3"
        ],
        [
         "39",
         "285.5",
         "291.2",
         "278.0",
         "283.7"
        ],
        [
         "40",
         "273.6",
         "290.3",
         "271.2",
         "288.9"
        ],
        [
         "41",
         "293.1",
         "299.2",
         "289.1",
         "294.0"
        ],
        [
         "42",
         "289.1",
         "298.9",
         "285.6",
         "288.9"
        ],
        [
         "43",
         "291.8",
         "299.5",
         "289.1",
         "289.9"
        ],
        [
         "44",
         "297.7",
         "299.0",
         "291.7",
         "298.1"
        ],
        [
         "45",
         "302.9",
         "311.6",
         "301.8",
         "303.7"
        ],
        [
         "46",
         "309.7",
         "311.1",
         "306.8",
         "309.2"
        ],
        [
         "47",
         "317.3",
         "317.5",
         "308.2",
         "311.6"
        ],
        [
         "48",
         "316.0",
         "316.1",
         "304.0",
         "307.8"
        ],
        [
         "49",
         "329.7",
         "338.6",
         "323.8",
         "336.1"
        ]
       ],
       "shape": {
        "columns": 4,
        "rows": 1009
       }
      },
      "text/html": [
       "<div>\n",
       "<style scoped>\n",
       "    .dataframe tbody tr th:only-of-type {\n",
       "        vertical-align: middle;\n",
       "    }\n",
       "\n",
       "    .dataframe tbody tr th {\n",
       "        vertical-align: top;\n",
       "    }\n",
       "\n",
       "    .dataframe thead th {\n",
       "        text-align: right;\n",
       "    }\n",
       "</style>\n",
       "<table border=\"1\" class=\"dataframe\">\n",
       "  <thead>\n",
       "    <tr style=\"text-align: right;\">\n",
       "      <th></th>\n",
       "      <th>Open</th>\n",
       "      <th>High</th>\n",
       "      <th>Low</th>\n",
       "      <th>Close</th>\n",
       "    </tr>\n",
       "  </thead>\n",
       "  <tbody>\n",
       "    <tr>\n",
       "      <th>0</th>\n",
       "      <td>262.0</td>\n",
       "      <td>267.9</td>\n",
       "      <td>250.0</td>\n",
       "      <td>254.3</td>\n",
       "    </tr>\n",
       "    <tr>\n",
       "      <th>1</th>\n",
       "      <td>247.7</td>\n",
       "      <td>266.7</td>\n",
       "      <td>245.0</td>\n",
       "      <td>265.7</td>\n",
       "    </tr>\n",
       "    <tr>\n",
       "      <th>2</th>\n",
       "      <td>266.6</td>\n",
       "      <td>272.5</td>\n",
       "      <td>264.3</td>\n",
       "      <td>264.6</td>\n",
       "    </tr>\n",
       "    <tr>\n",
       "      <th>3</th>\n",
       "      <td>267.1</td>\n",
       "      <td>267.6</td>\n",
       "      <td>250.0</td>\n",
       "      <td>250.1</td>\n",
       "    </tr>\n",
       "    <tr>\n",
       "      <th>4</th>\n",
       "      <td>253.9</td>\n",
       "      <td>255.8</td>\n",
       "      <td>236.1</td>\n",
       "      <td>249.5</td>\n",
       "    </tr>\n",
       "    <tr>\n",
       "      <th>...</th>\n",
       "      <td>...</td>\n",
       "      <td>...</td>\n",
       "      <td>...</td>\n",
       "      <td>...</td>\n",
       "    </tr>\n",
       "    <tr>\n",
       "      <th>1004</th>\n",
       "      <td>402.0</td>\n",
       "      <td>427.7</td>\n",
       "      <td>398.2</td>\n",
       "      <td>427.1</td>\n",
       "    </tr>\n",
       "    <tr>\n",
       "      <th>1005</th>\n",
       "      <td>433.0</td>\n",
       "      <td>458.5</td>\n",
       "      <td>425.5</td>\n",
       "      <td>457.1</td>\n",
       "    </tr>\n",
       "    <tr>\n",
       "      <th>1006</th>\n",
       "      <td>448.2</td>\n",
       "      <td>452.0</td>\n",
       "      <td>426.5</td>\n",
       "      <td>429.5</td>\n",
       "    </tr>\n",
       "    <tr>\n",
       "      <th>1007</th>\n",
       "      <td>421.4</td>\n",
       "      <td>429.3</td>\n",
       "      <td>404.3</td>\n",
       "      <td>405.6</td>\n",
       "    </tr>\n",
       "    <tr>\n",
       "      <th>1008</th>\n",
       "      <td>407.3</td>\n",
       "      <td>412.8</td>\n",
       "      <td>396.6</td>\n",
       "      <td>410.2</td>\n",
       "    </tr>\n",
       "  </tbody>\n",
       "</table>\n",
       "<p>1009 rows × 4 columns</p>\n",
       "</div>"
      ],
      "text/plain": [
       "       Open   High    Low  Close\n",
       "0     262.0  267.9  250.0  254.3\n",
       "1     247.7  266.7  245.0  265.7\n",
       "2     266.6  272.5  264.3  264.6\n",
       "3     267.1  267.6  250.0  250.1\n",
       "4     253.9  255.8  236.1  249.5\n",
       "...     ...    ...    ...    ...\n",
       "1004  402.0  427.7  398.2  427.1\n",
       "1005  433.0  458.5  425.5  457.1\n",
       "1006  448.2  452.0  426.5  429.5\n",
       "1007  421.4  429.3  404.3  405.6\n",
       "1008  407.3  412.8  396.6  410.2\n",
       "\n",
       "[1009 rows x 4 columns]"
      ]
     },
     "execution_count": 76,
     "metadata": {},
     "output_type": "execute_result"
    }
   ],
   "source": [
    "df"
   ]
  },
  {
   "cell_type": "code",
   "execution_count": 77,
   "metadata": {},
   "outputs": [],
   "source": [
    "from imblearn.combine import SMOTETomek\n",
    "X = df.iloc[:,:-1]\n",
    "Y = df.iloc[:,-1]"
   ]
  },
  {
   "cell_type": "code",
   "execution_count": null,
   "metadata": {},
   "outputs": [],
   "source": []
  },
  {
   "cell_type": "code",
   "execution_count": 78,
   "metadata": {},
   "outputs": [],
   "source": [
    "# smo_tek = SMOTETomek()\n",
    "# X_smotek, Y_smotek = smo_tek.fit_resample(X, Y)"
   ]
  },
  {
   "cell_type": "code",
   "execution_count": 79,
   "metadata": {},
   "outputs": [],
   "source": [
    "# Y = df.iloc[:,-1]\n",
    "# Y"
   ]
  },
  {
   "cell_type": "code",
   "execution_count": 80,
   "metadata": {},
   "outputs": [],
   "source": [
    "from sklearn.model_selection import train_test_split\n",
    "\n",
    "X_train, X_test, Y_train, Y_test = train_test_split(X,Y ,test_size=0.25, random_state=33)"
   ]
  },
  {
   "cell_type": "code",
   "execution_count": 81,
   "metadata": {},
   "outputs": [
    {
     "data": {
      "text/plain": [
       "(756, 3)"
      ]
     },
     "execution_count": 81,
     "metadata": {},
     "output_type": "execute_result"
    }
   ],
   "source": [
    "X_train.shape"
   ]
  },
  {
   "cell_type": "code",
   "execution_count": 82,
   "metadata": {},
   "outputs": [
    {
     "data": {
      "text/plain": [
       "521    368.8\n",
       "760    557.6\n",
       "820    486.7\n",
       "0      254.3\n",
       "677    554.1\n",
       "       ...  \n",
       "658    483.9\n",
       "578    429.3\n",
       "728    514.0\n",
       "391    295.0\n",
       "20     325.2\n",
       "Name: Close, Length: 756, dtype: float64"
      ]
     },
     "execution_count": 82,
     "metadata": {},
     "output_type": "execute_result"
    }
   ],
   "source": [
    "Y_train"
   ]
  },
  {
   "cell_type": "code",
   "execution_count": 83,
   "metadata": {},
   "outputs": [
    {
     "data": {
      "application/vnd.microsoft.datawrangler.viewer.v0+json": {
       "columns": [
        {
         "name": "index",
         "rawType": "int64",
         "type": "integer"
        },
        {
         "name": "Open",
         "rawType": "float64",
         "type": "float"
        },
        {
         "name": "High",
         "rawType": "float64",
         "type": "float"
        },
        {
         "name": "Low",
         "rawType": "float64",
         "type": "float"
        }
       ],
       "conversionMethod": "pd.DataFrame",
       "ref": "53483ea0-ff7b-4fc7-a8a5-ebd48d1ea718",
       "rows": [
        [
         "521",
         "381.0",
         "393.5",
         "367.4"
        ],
        [
         "760",
         "564.4",
         "565.9",
         "554.2"
        ],
        [
         "820",
         "502.0",
         "503.1",
         "486.1"
        ],
        [
         "0",
         "262.0",
         "267.9",
         "250.0"
        ],
        [
         "677",
         "540.6",
         "557.7",
         "537.2"
        ],
        [
         "490",
         "343.5",
         "343.6",
         "335.9"
        ],
        [
         "646",
         "532.0",
         "539.0",
         "522.0"
        ],
        [
         "875",
         "521.8",
         "524.5",
         "517.0"
        ],
        [
         "229",
         "270.2",
         "275.8",
         "264.4"
        ],
        [
         "562",
         "410.3",
         "424.4",
         "408.0"
        ],
        [
         "932",
         "632.1",
         "638.4",
         "620.6"
        ],
        [
         "316",
         "360.9",
         "364.2",
         "352.8"
        ],
        [
         "899",
         "566.1",
         "569.5",
         "561.6"
        ],
        [
         "289",
         "359.0",
         "368.3",
         "358.5"
        ],
        [
         "397",
         "291.2",
         "292.4",
         "286.5"
        ],
        [
         "746",
         "582.1",
         "584.0",
         "564.3"
        ],
        [
         "956",
         "692.3",
         "694.2",
         "675.0"
        ],
        [
         "125",
         "347.8",
         "347.9",
         "338.5"
        ],
        [
         "322",
         "356.4",
         "359.6",
         "353.8"
        ],
        [
         "280",
         "366.4",
         "367.0",
         "356.8"
        ],
        [
         "174",
         "339.6",
         "341.3",
         "328.9"
        ],
        [
         "978",
         "603.4",
         "614.8",
         "602.6"
        ],
        [
         "69",
         "325.9",
         "326.9",
         "322.4"
        ],
        [
         "273",
         "345.8",
         "349.9",
         "342.5"
        ],
        [
         "347",
         "370.3",
         "375.0",
         "370.2"
        ],
        [
         "558",
         "425.0",
         "427.2",
         "415.9"
        ],
        [
         "568",
         "434.1",
         "442.0",
         "433.6"
        ],
        [
         "860",
         "544.2",
         "544.6",
         "531.7"
        ],
        [
         "162",
         "373.6",
         "382.0",
         "370.9"
        ],
        [
         "274",
         "352.0",
         "359.0",
         "350.0"
        ],
        [
         "27",
         "323.2",
         "323.4",
         "318.1"
        ],
        [
         "5",
         "252.1",
         "259.1",
         "249.0"
        ],
        [
         "324",
         "351.0",
         "356.4",
         "349.9"
        ],
        [
         "540",
         "363.0",
         "377.8",
         "361.2"
        ],
        [
         "712",
         "501.6",
         "506.8",
         "493.5"
        ],
        [
         "596",
         "448.7",
         "452.8",
         "442.8"
        ],
        [
         "964",
         "617.1",
         "625.4",
         "612.9"
        ],
        [
         "898",
         "557.2",
         "567.2",
         "556.5"
        ],
        [
         "252",
         "357.0",
         "357.0",
         "347.2"
        ],
        [
         "516",
         "372.0",
         "375.6",
         "357.7"
        ],
        [
         "330",
         "350.5",
         "354.2",
         "348.3"
        ],
        [
         "925",
         "642.2",
         "646.8",
         "630.5"
        ],
        [
         "591",
         "428.2",
         "445.6",
         "424.2"
        ],
        [
         "178",
         "360.7",
         "362.2",
         "346.0"
        ],
        [
         "297",
         "365.0",
         "370.1",
         "360.8"
        ],
        [
         "98",
         "393.3",
         "404.8",
         "389.0"
        ],
        [
         "296",
         "365.8",
         "368.9",
         "362.2"
        ],
        [
         "920",
         "608.0",
         "619.0",
         "608.0"
        ],
        [
         "1008",
         "407.3",
         "412.8",
         "396.6"
        ],
        [
         "800",
         "551.0",
         "558.0",
         "549.6"
        ]
       ],
       "shape": {
        "columns": 3,
        "rows": 756
       }
      },
      "text/html": [
       "<div>\n",
       "<style scoped>\n",
       "    .dataframe tbody tr th:only-of-type {\n",
       "        vertical-align: middle;\n",
       "    }\n",
       "\n",
       "    .dataframe tbody tr th {\n",
       "        vertical-align: top;\n",
       "    }\n",
       "\n",
       "    .dataframe thead th {\n",
       "        text-align: right;\n",
       "    }\n",
       "</style>\n",
       "<table border=\"1\" class=\"dataframe\">\n",
       "  <thead>\n",
       "    <tr style=\"text-align: right;\">\n",
       "      <th></th>\n",
       "      <th>Open</th>\n",
       "      <th>High</th>\n",
       "      <th>Low</th>\n",
       "    </tr>\n",
       "  </thead>\n",
       "  <tbody>\n",
       "    <tr>\n",
       "      <th>521</th>\n",
       "      <td>381.0</td>\n",
       "      <td>393.5</td>\n",
       "      <td>367.4</td>\n",
       "    </tr>\n",
       "    <tr>\n",
       "      <th>760</th>\n",
       "      <td>564.4</td>\n",
       "      <td>565.9</td>\n",
       "      <td>554.2</td>\n",
       "    </tr>\n",
       "    <tr>\n",
       "      <th>820</th>\n",
       "      <td>502.0</td>\n",
       "      <td>503.1</td>\n",
       "      <td>486.1</td>\n",
       "    </tr>\n",
       "    <tr>\n",
       "      <th>0</th>\n",
       "      <td>262.0</td>\n",
       "      <td>267.9</td>\n",
       "      <td>250.0</td>\n",
       "    </tr>\n",
       "    <tr>\n",
       "      <th>677</th>\n",
       "      <td>540.6</td>\n",
       "      <td>557.7</td>\n",
       "      <td>537.2</td>\n",
       "    </tr>\n",
       "    <tr>\n",
       "      <th>...</th>\n",
       "      <td>...</td>\n",
       "      <td>...</td>\n",
       "      <td>...</td>\n",
       "    </tr>\n",
       "    <tr>\n",
       "      <th>658</th>\n",
       "      <td>500.0</td>\n",
       "      <td>504.7</td>\n",
       "      <td>483.3</td>\n",
       "    </tr>\n",
       "    <tr>\n",
       "      <th>578</th>\n",
       "      <td>437.0</td>\n",
       "      <td>439.1</td>\n",
       "      <td>427.2</td>\n",
       "    </tr>\n",
       "    <tr>\n",
       "      <th>728</th>\n",
       "      <td>515.1</td>\n",
       "      <td>519.3</td>\n",
       "      <td>512.2</td>\n",
       "    </tr>\n",
       "    <tr>\n",
       "      <th>391</th>\n",
       "      <td>295.2</td>\n",
       "      <td>297.0</td>\n",
       "      <td>292.5</td>\n",
       "    </tr>\n",
       "    <tr>\n",
       "      <th>20</th>\n",
       "      <td>319.9</td>\n",
       "      <td>325.8</td>\n",
       "      <td>316.5</td>\n",
       "    </tr>\n",
       "  </tbody>\n",
       "</table>\n",
       "<p>756 rows × 3 columns</p>\n",
       "</div>"
      ],
      "text/plain": [
       "      Open   High    Low\n",
       "521  381.0  393.5  367.4\n",
       "760  564.4  565.9  554.2\n",
       "820  502.0  503.1  486.1\n",
       "0    262.0  267.9  250.0\n",
       "677  540.6  557.7  537.2\n",
       "..     ...    ...    ...\n",
       "658  500.0  504.7  483.3\n",
       "578  437.0  439.1  427.2\n",
       "728  515.1  519.3  512.2\n",
       "391  295.2  297.0  292.5\n",
       "20   319.9  325.8  316.5\n",
       "\n",
       "[756 rows x 3 columns]"
      ]
     },
     "execution_count": 83,
     "metadata": {},
     "output_type": "execute_result"
    }
   ],
   "source": [
    "X_train"
   ]
  },
  {
   "cell_type": "code",
   "execution_count": 84,
   "metadata": {},
   "outputs": [],
   "source": [
    "from sklearn.metrics import mean_squared_error, mean_absolute_error, r2_score\n",
    "from sklearn.linear_model import LinearRegression, Ridge, Lasso\n",
    "from sklearn.svm import SVR\n",
    "from sklearn.tree import DecisionTreeRegressor\n",
    "from sklearn.ensemble import RandomForestRegressor, GradientBoostingRegressor\n",
    "from sklearn.neighbors import KNeighborsRegressor\n",
    "from sklearn.neural_network import MLPRegressor\n",
    "from sklearn.datasets import fetch_california_housing"
   ]
  },
  {
   "cell_type": "code",
   "execution_count": 85,
   "metadata": {},
   "outputs": [],
   "source": [
    "models = {\n",
    "    \"Linear Regression\": LinearRegression(),\n",
    "    \"Ridge Regression\": Ridge(),\n",
    "    \"Lasso Regression\": Lasso(),\n",
    "    \"Support Vector Regression\": SVR(),\n",
    "    \"Decision Tree\": DecisionTreeRegressor(),\n",
    "    \"Random Forest\": RandomForestRegressor(),\n",
    "    \"Gradient Boosting\": GradientBoostingRegressor(),\n",
    "    \"KNN Regressor\": KNeighborsRegressor(),\n",
    "    \"MLP Regressor\": MLPRegressor(max_iter=1000),\n",
    "}"
   ]
  },
  {
   "cell_type": "code",
   "execution_count": 86,
   "metadata": {},
   "outputs": [
    {
     "name": "stderr",
     "output_type": "stream",
     "text": [
      "/home/jonah/.local/lib/python3.12/site-packages/sklearn/linear_model/_coordinate_descent.py:695: ConvergenceWarning: Objective did not converge. You might want to increase the number of iterations, check the scale of the features or consider increasing regularisation. Duality gap: 5.168e+03, tolerance: 8.992e+02\n",
      "  model = cd_fast.enet_coordinate_descent(\n"
     ]
    },
    {
     "name": "stdout",
     "output_type": "stream",
     "text": [
      "\n",
      "Sorted Results:\n",
      "                        Model          MSE        MAE  R2 Score\n",
      "1           Ridge Regression    19.161524   3.158544  0.998283\n",
      "0          Linear Regression    19.161619   3.158503  0.998283\n",
      "2           Lasso Regression    21.560674   3.375955  0.998068\n",
      "8              MLP Regressor    23.264386   3.625188  0.997915\n",
      "5              Random Forest    30.116597   3.906091  0.997301\n",
      "7              KNN Regressor    31.752964   4.015810  0.997154\n",
      "6          Gradient Boosting    32.259147   4.126693  0.997109\n",
      "4              Decision Tree    42.436047   4.739130  0.996197\n",
      "3  Support Vector Regression  1136.646497  15.531505  0.898138\n",
      "\n",
      "🏆 Best Model: Ridge Regression with R² Score = 0.9983\n"
     ]
    }
   ],
   "source": [
    "best_model = None\n",
    "best_r2 = float('-inf')\n",
    "results = []\n",
    "\n",
    "for name, model in models.items():\n",
    "    model.fit(X_train, Y_train)  # Train model\n",
    "    Y_pred = model.predict(X_test)  # Predict on test data\n",
    "    \n",
    "    # Calculate metrics\n",
    "    mse = mean_squared_error(Y_test, Y_pred)\n",
    "    mae = mean_absolute_error(Y_test, Y_pred)\n",
    "    r2 = r2_score(Y_test, Y_pred)\n",
    "    \n",
    "    results.append({\"Model\": name, \"MSE\": mse, \"MAE\": mae, \"R2 Score\": r2})\n",
    "    \n",
    "    # Check for best R2 score\n",
    "    if r2 > best_r2:\n",
    "        best_r2 = r2\n",
    "        best_model = name\n",
    "\n",
    "# Convert results to DataFrame\n",
    "df_results = pd.DataFrame(results).sort_values(by=\"MSE\")\n",
    "print(\"\\nSorted Results:\\n\", df_results)\n",
    "\n",
    "# Print Best Model\n",
    "print(f\"\\n🏆 Best Model: {best_model} with R² Score = {best_r2:.4f}\")\n"
   ]
  },
  {
   "cell_type": "code",
   "execution_count": 87,
   "metadata": {},
   "outputs": [],
   "source": [
    "model = Ridge()\n",
    "model.fit(X_train,Y_train)\n",
    "Y_pred_knn = model.predict(X_test)\n"
   ]
  },
  {
   "cell_type": "code",
   "execution_count": 88,
   "metadata": {},
   "outputs": [],
   "source": [
    "import pickle\n",
    "pickle.dump(models[best_model], open('model.pkl', 'wb'))"
   ]
  },
  {
   "cell_type": "code",
   "execution_count": 89,
   "metadata": {},
   "outputs": [
    {
     "data": {
      "application/vnd.microsoft.datawrangler.viewer.v0+json": {
       "columns": [
        {
         "name": "index",
         "rawType": "int64",
         "type": "integer"
        },
        {
         "name": "Open",
         "rawType": "float64",
         "type": "float"
        },
        {
         "name": "High",
         "rawType": "float64",
         "type": "float"
        },
        {
         "name": "Low",
         "rawType": "float64",
         "type": "float"
        },
        {
         "name": "Close",
         "rawType": "float64",
         "type": "float"
        }
       ],
       "conversionMethod": "pd.DataFrame",
       "ref": "a198735f-8f26-4e0d-a202-85dcb75dd83d",
       "rows": [
        [
         "0",
         "262.0",
         "267.9",
         "250.0",
         "254.3"
        ],
        [
         "1",
         "247.7",
         "266.7",
         "245.0",
         "265.7"
        ],
        [
         "2",
         "266.6",
         "272.5",
         "264.3",
         "264.6"
        ],
        [
         "3",
         "267.1",
         "267.6",
         "250.0",
         "250.1"
        ],
        [
         "4",
         "253.9",
         "255.8",
         "236.1",
         "249.5"
        ],
        [
         "5",
         "252.1",
         "259.1",
         "249.0",
         "258.0"
        ],
        [
         "6",
         "257.3",
         "261.4",
         "254.7",
         "258.3"
        ],
        [
         "7",
         "260.5",
         "269.9",
         "260.3",
         "266.0"
        ],
        [
         "8",
         "270.0",
         "280.5",
         "267.6",
         "280.3"
        ],
        [
         "9",
         "278.7",
         "282.0",
         "275.7",
         "278.5"
        ],
        [
         "10",
         "277.7",
         "285.8",
         "276.6",
         "278.5"
        ],
        [
         "11",
         "282.1",
         "286.6",
         "280.0",
         "281.0"
        ],
        [
         "12",
         "283.9",
         "284.5",
         "274.5",
         "278.1"
        ],
        [
         "13",
         "281.0",
         "286.0",
         "277.8",
         "285.9"
        ],
        [
         "14",
         "288.8",
         "295.6",
         "287.0",
         "294.2"
        ],
        [
         "15",
         "294.8",
         "297.4",
         "290.6",
         "290.6"
        ],
        [
         "16",
         "293.1",
         "295.8",
         "290.8",
         "291.4"
        ],
        [
         "17",
         "292.8",
         "295.2",
         "283.8",
         "290.4"
        ],
        [
         "18",
         "284.6",
         "301.2",
         "283.2",
         "301.0"
        ],
        [
         "19",
         "302.9",
         "316.9",
         "297.6",
         "315.0"
        ],
        [
         "20",
         "319.9",
         "325.8",
         "316.5",
         "325.2"
        ],
        [
         "21",
         "320.0",
         "323.7",
         "314.5",
         "321.2"
        ],
        [
         "22",
         "322.2",
         "322.9",
         "314.1",
         "317.0"
        ],
        [
         "23",
         "321.3",
         "331.4",
         "320.2",
         "331.4"
        ],
        [
         "24",
         "333.6",
         "334.0",
         "318.6",
         "321.3"
        ],
        [
         "25",
         "323.9",
         "325.8",
         "313.3",
         "315.9"
        ],
        [
         "26",
         "318.2",
         "323.9",
         "317.7",
         "321.5"
        ],
        [
         "27",
         "323.2",
         "323.4",
         "318.1",
         "321.1"
        ],
        [
         "28",
         "321.4",
         "324.1",
         "318.4",
         "318.5"
        ],
        [
         "29",
         "315.8",
         "317.0",
         "307.3",
         "313.5"
        ],
        [
         "30",
         "313.3",
         "319.5",
         "312.8",
         "317.5"
        ],
        [
         "31",
         "316.4",
         "319.4",
         "314.5",
         "316.5"
        ],
        [
         "32",
         "313.1",
         "314.1",
         "305.7",
         "306.7"
        ],
        [
         "33",
         "307.4",
         "309.4",
         "300.4",
         "300.9"
        ],
        [
         "34",
         "309.4",
         "321.0",
         "302.0",
         "320.4"
        ],
        [
         "35",
         "322.5",
         "322.9",
         "297.0",
         "300.7"
        ],
        [
         "36",
         "298.4",
         "298.8",
         "281.6",
         "285.8"
        ],
        [
         "37",
         "287.0",
         "295.4",
         "275.9",
         "295.4"
        ],
        [
         "38",
         "291.9",
         "292.9",
         "275.0",
         "280.3"
        ],
        [
         "39",
         "285.5",
         "291.2",
         "278.0",
         "283.7"
        ],
        [
         "40",
         "273.6",
         "290.3",
         "271.2",
         "288.9"
        ],
        [
         "41",
         "293.1",
         "299.2",
         "289.1",
         "294.0"
        ],
        [
         "42",
         "289.1",
         "298.9",
         "285.6",
         "288.9"
        ],
        [
         "43",
         "291.8",
         "299.5",
         "289.1",
         "289.9"
        ],
        [
         "44",
         "297.7",
         "299.0",
         "291.7",
         "298.1"
        ],
        [
         "45",
         "302.9",
         "311.6",
         "301.8",
         "303.7"
        ],
        [
         "46",
         "309.7",
         "311.1",
         "306.8",
         "309.2"
        ],
        [
         "47",
         "317.3",
         "317.5",
         "308.2",
         "311.6"
        ],
        [
         "48",
         "316.0",
         "316.1",
         "304.0",
         "307.8"
        ],
        [
         "49",
         "329.7",
         "338.6",
         "323.8",
         "336.1"
        ]
       ],
       "shape": {
        "columns": 4,
        "rows": 1009
       }
      },
      "text/html": [
       "<div>\n",
       "<style scoped>\n",
       "    .dataframe tbody tr th:only-of-type {\n",
       "        vertical-align: middle;\n",
       "    }\n",
       "\n",
       "    .dataframe tbody tr th {\n",
       "        vertical-align: top;\n",
       "    }\n",
       "\n",
       "    .dataframe thead th {\n",
       "        text-align: right;\n",
       "    }\n",
       "</style>\n",
       "<table border=\"1\" class=\"dataframe\">\n",
       "  <thead>\n",
       "    <tr style=\"text-align: right;\">\n",
       "      <th></th>\n",
       "      <th>Open</th>\n",
       "      <th>High</th>\n",
       "      <th>Low</th>\n",
       "      <th>Close</th>\n",
       "    </tr>\n",
       "  </thead>\n",
       "  <tbody>\n",
       "    <tr>\n",
       "      <th>0</th>\n",
       "      <td>262.0</td>\n",
       "      <td>267.9</td>\n",
       "      <td>250.0</td>\n",
       "      <td>254.3</td>\n",
       "    </tr>\n",
       "    <tr>\n",
       "      <th>1</th>\n",
       "      <td>247.7</td>\n",
       "      <td>266.7</td>\n",
       "      <td>245.0</td>\n",
       "      <td>265.7</td>\n",
       "    </tr>\n",
       "    <tr>\n",
       "      <th>2</th>\n",
       "      <td>266.6</td>\n",
       "      <td>272.5</td>\n",
       "      <td>264.3</td>\n",
       "      <td>264.6</td>\n",
       "    </tr>\n",
       "    <tr>\n",
       "      <th>3</th>\n",
       "      <td>267.1</td>\n",
       "      <td>267.6</td>\n",
       "      <td>250.0</td>\n",
       "      <td>250.1</td>\n",
       "    </tr>\n",
       "    <tr>\n",
       "      <th>4</th>\n",
       "      <td>253.9</td>\n",
       "      <td>255.8</td>\n",
       "      <td>236.1</td>\n",
       "      <td>249.5</td>\n",
       "    </tr>\n",
       "    <tr>\n",
       "      <th>...</th>\n",
       "      <td>...</td>\n",
       "      <td>...</td>\n",
       "      <td>...</td>\n",
       "      <td>...</td>\n",
       "    </tr>\n",
       "    <tr>\n",
       "      <th>1004</th>\n",
       "      <td>402.0</td>\n",
       "      <td>427.7</td>\n",
       "      <td>398.2</td>\n",
       "      <td>427.1</td>\n",
       "    </tr>\n",
       "    <tr>\n",
       "      <th>1005</th>\n",
       "      <td>433.0</td>\n",
       "      <td>458.5</td>\n",
       "      <td>425.5</td>\n",
       "      <td>457.1</td>\n",
       "    </tr>\n",
       "    <tr>\n",
       "      <th>1006</th>\n",
       "      <td>448.2</td>\n",
       "      <td>452.0</td>\n",
       "      <td>426.5</td>\n",
       "      <td>429.5</td>\n",
       "    </tr>\n",
       "    <tr>\n",
       "      <th>1007</th>\n",
       "      <td>421.4</td>\n",
       "      <td>429.3</td>\n",
       "      <td>404.3</td>\n",
       "      <td>405.6</td>\n",
       "    </tr>\n",
       "    <tr>\n",
       "      <th>1008</th>\n",
       "      <td>407.3</td>\n",
       "      <td>412.8</td>\n",
       "      <td>396.6</td>\n",
       "      <td>410.2</td>\n",
       "    </tr>\n",
       "  </tbody>\n",
       "</table>\n",
       "<p>1009 rows × 4 columns</p>\n",
       "</div>"
      ],
      "text/plain": [
       "       Open   High    Low  Close\n",
       "0     262.0  267.9  250.0  254.3\n",
       "1     247.7  266.7  245.0  265.7\n",
       "2     266.6  272.5  264.3  264.6\n",
       "3     267.1  267.6  250.0  250.1\n",
       "4     253.9  255.8  236.1  249.5\n",
       "...     ...    ...    ...    ...\n",
       "1004  402.0  427.7  398.2  427.1\n",
       "1005  433.0  458.5  425.5  457.1\n",
       "1006  448.2  452.0  426.5  429.5\n",
       "1007  421.4  429.3  404.3  405.6\n",
       "1008  407.3  412.8  396.6  410.2\n",
       "\n",
       "[1009 rows x 4 columns]"
      ]
     },
     "execution_count": 89,
     "metadata": {},
     "output_type": "execute_result"
    }
   ],
   "source": [
    "df"
   ]
  },
  {
   "cell_type": "code",
   "execution_count": 92,
   "metadata": {},
   "outputs": [
    {
     "name": "stdout",
     "output_type": "stream",
     "text": [
      "📈 Predicted Close Price: -1.19\n"
     ]
    },
    {
     "name": "stderr",
     "output_type": "stream",
     "text": [
      "/home/jonah/.local/lib/python3.12/site-packages/sklearn/utils/validation.py:2739: UserWarning: X does not have valid feature names, but StandardScaler was fitted with feature names\n",
      "  warnings.warn(\n",
      "/home/jonah/.local/lib/python3.12/site-packages/sklearn/utils/validation.py:2739: UserWarning: X does not have valid feature names, but Ridge was fitted with feature names\n",
      "  warnings.warn(\n"
     ]
    }
   ],
   "source": [
    "from sklearn.preprocessing import StandardScaler\n",
    "\n",
    "# Example input (replace with real values)\n",
    "new_data = np.array([[247.6, 266.7, 250.0]])  # Open, High, Low values\n",
    "\n",
    "# Load the same scaler used for training\n",
    "scaler = StandardScaler()\n",
    "X_train_scaled = scaler.fit_transform(X_train)  # Refit on training data\n",
    "new_data_scaled = scaler.transform(new_data)  # Scale new input\n",
    "\n",
    "# Make prediction\n",
    "predicted_close = model.predict(new_data_scaled)\n",
    "print(f\"📈 Predicted Close Price: {predicted_close[0]:.2f}\")\n"
   ]
  }
 ],
 "metadata": {
  "kernelspec": {
   "display_name": "Python 3",
   "language": "python",
   "name": "python3"
  },
  "language_info": {
   "codemirror_mode": {
    "name": "ipython",
    "version": 3
   },
   "file_extension": ".py",
   "mimetype": "text/x-python",
   "name": "python",
   "nbconvert_exporter": "python",
   "pygments_lexer": "ipython3",
   "version": "3.12.3"
  }
 },
 "nbformat": 4,
 "nbformat_minor": 2
}
