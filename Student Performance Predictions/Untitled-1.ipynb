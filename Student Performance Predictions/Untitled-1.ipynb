{
 "cells": [
  {
   "cell_type": "code",
   "execution_count": 1,
   "metadata": {},
   "outputs": [],
   "source": [
    "# https://www.kaggle.com/datasets/rkiattisak/student-performance-in-mathematics"
   ]
  },
  {
   "cell_type": "code",
   "execution_count": 2,
   "metadata": {},
   "outputs": [],
   "source": [
    "import pandas as pd\n",
    "import numpy as np\n",
    "import matplotlib.pyplot as plt\n",
    "import seaborn as sns"
   ]
  },
  {
   "cell_type": "code",
   "execution_count": 3,
   "metadata": {},
   "outputs": [],
   "source": [
    "df = pd.read_csv(\"student_performance_prediction_copied.csv\")"
   ]
  },
  {
   "cell_type": "code",
   "execution_count": 4,
   "metadata": {},
   "outputs": [
    {
     "data": {
      "text/plain": [
       "(40000, 7)"
      ]
     },
     "execution_count": 4,
     "metadata": {},
     "output_type": "execute_result"
    }
   ],
   "source": [
    "df.shape"
   ]
  },
  {
   "cell_type": "code",
   "execution_count": 5,
   "metadata": {},
   "outputs": [
    {
     "data": {
      "application/vnd.microsoft.datawrangler.viewer.v0+json": {
       "columns": [
        {
         "name": "index",
         "rawType": "int64",
         "type": "integer"
        },
        {
         "name": "Student ID",
         "rawType": "object",
         "type": "string"
        },
        {
         "name": "Study Hours per Week",
         "rawType": "float64",
         "type": "float"
        },
        {
         "name": "Attendance Rate",
         "rawType": "float64",
         "type": "float"
        },
        {
         "name": "Previous Grades",
         "rawType": "float64",
         "type": "float"
        },
        {
         "name": "Participation in Extracurricular Activities",
         "rawType": "object",
         "type": "string"
        },
        {
         "name": "Parent Education Level",
         "rawType": "object",
         "type": "string"
        },
        {
         "name": "Passed",
         "rawType": "object",
         "type": "string"
        }
       ],
       "conversionMethod": "pd.DataFrame",
       "ref": "f78e9bc3-d039-45c8-a5f4-5a11c1860235",
       "rows": [
        [
         "39995",
         "S39996",
         "15.6",
         "93.8",
         "51.4",
         "Yes",
         "Master",
         "No"
        ],
        [
         "39996",
         "S39997",
         "11.3",
         "66.4",
         "64.2",
         "No",
         "Doctorate",
         "Yes"
        ],
        [
         "39997",
         "S39998",
         "13.1",
         "65.6",
         "38.1",
         "No",
         "Bachelor",
         "No"
        ],
        [
         "39998",
         "S39999",
         "14.1",
         "74.9",
         null,
         "Yes",
         "Master",
         "No"
        ],
        [
         "39999",
         "S40000",
         "11.8",
         "55.1",
         "68.5",
         "No",
         "Bachelor",
         "Yes"
        ]
       ],
       "shape": {
        "columns": 7,
        "rows": 5
       }
      },
      "text/html": [
       "<div>\n",
       "<style scoped>\n",
       "    .dataframe tbody tr th:only-of-type {\n",
       "        vertical-align: middle;\n",
       "    }\n",
       "\n",
       "    .dataframe tbody tr th {\n",
       "        vertical-align: top;\n",
       "    }\n",
       "\n",
       "    .dataframe thead th {\n",
       "        text-align: right;\n",
       "    }\n",
       "</style>\n",
       "<table border=\"1\" class=\"dataframe\">\n",
       "  <thead>\n",
       "    <tr style=\"text-align: right;\">\n",
       "      <th></th>\n",
       "      <th>Student ID</th>\n",
       "      <th>Study Hours per Week</th>\n",
       "      <th>Attendance Rate</th>\n",
       "      <th>Previous Grades</th>\n",
       "      <th>Participation in Extracurricular Activities</th>\n",
       "      <th>Parent Education Level</th>\n",
       "      <th>Passed</th>\n",
       "    </tr>\n",
       "  </thead>\n",
       "  <tbody>\n",
       "    <tr>\n",
       "      <th>39995</th>\n",
       "      <td>S39996</td>\n",
       "      <td>15.6</td>\n",
       "      <td>93.8</td>\n",
       "      <td>51.4</td>\n",
       "      <td>Yes</td>\n",
       "      <td>Master</td>\n",
       "      <td>No</td>\n",
       "    </tr>\n",
       "    <tr>\n",
       "      <th>39996</th>\n",
       "      <td>S39997</td>\n",
       "      <td>11.3</td>\n",
       "      <td>66.4</td>\n",
       "      <td>64.2</td>\n",
       "      <td>No</td>\n",
       "      <td>Doctorate</td>\n",
       "      <td>Yes</td>\n",
       "    </tr>\n",
       "    <tr>\n",
       "      <th>39997</th>\n",
       "      <td>S39998</td>\n",
       "      <td>13.1</td>\n",
       "      <td>65.6</td>\n",
       "      <td>38.1</td>\n",
       "      <td>No</td>\n",
       "      <td>Bachelor</td>\n",
       "      <td>No</td>\n",
       "    </tr>\n",
       "    <tr>\n",
       "      <th>39998</th>\n",
       "      <td>S39999</td>\n",
       "      <td>14.1</td>\n",
       "      <td>74.9</td>\n",
       "      <td>NaN</td>\n",
       "      <td>Yes</td>\n",
       "      <td>Master</td>\n",
       "      <td>No</td>\n",
       "    </tr>\n",
       "    <tr>\n",
       "      <th>39999</th>\n",
       "      <td>S40000</td>\n",
       "      <td>11.8</td>\n",
       "      <td>55.1</td>\n",
       "      <td>68.5</td>\n",
       "      <td>No</td>\n",
       "      <td>Bachelor</td>\n",
       "      <td>Yes</td>\n",
       "    </tr>\n",
       "  </tbody>\n",
       "</table>\n",
       "</div>"
      ],
      "text/plain": [
       "      Student ID  Study Hours per Week  Attendance Rate  Previous Grades  \\\n",
       "39995     S39996                  15.6             93.8             51.4   \n",
       "39996     S39997                  11.3             66.4             64.2   \n",
       "39997     S39998                  13.1             65.6             38.1   \n",
       "39998     S39999                  14.1             74.9              NaN   \n",
       "39999     S40000                  11.8             55.1             68.5   \n",
       "\n",
       "      Participation in Extracurricular Activities Parent Education Level  \\\n",
       "39995                                         Yes                 Master   \n",
       "39996                                          No              Doctorate   \n",
       "39997                                          No               Bachelor   \n",
       "39998                                         Yes                 Master   \n",
       "39999                                          No               Bachelor   \n",
       "\n",
       "      Passed  \n",
       "39995     No  \n",
       "39996    Yes  \n",
       "39997     No  \n",
       "39998     No  \n",
       "39999    Yes  "
      ]
     },
     "execution_count": 5,
     "metadata": {},
     "output_type": "execute_result"
    }
   ],
   "source": [
    "df.tail()"
   ]
  },
  {
   "cell_type": "code",
   "execution_count": 6,
   "metadata": {},
   "outputs": [
    {
     "name": "stdout",
     "output_type": "stream",
     "text": [
      "<class 'pandas.core.frame.DataFrame'>\n",
      "RangeIndex: 40000 entries, 0 to 39999\n",
      "Data columns (total 7 columns):\n",
      " #   Column                                       Non-Null Count  Dtype  \n",
      "---  ------                                       --------------  -----  \n",
      " 0   Student ID                                   40000 non-null  object \n",
      " 1   Study Hours per Week                         38005 non-null  float64\n",
      " 2   Attendance Rate                              38008 non-null  float64\n",
      " 3   Previous Grades                              38006 non-null  float64\n",
      " 4   Participation in Extracurricular Activities  38000 non-null  object \n",
      " 5   Parent Education Level                       38000 non-null  object \n",
      " 6   Passed                                       38000 non-null  object \n",
      "dtypes: float64(3), object(4)\n",
      "memory usage: 2.1+ MB\n"
     ]
    }
   ],
   "source": [
    "df.info()"
   ]
  },
  {
   "cell_type": "code",
   "execution_count": 7,
   "metadata": {},
   "outputs": [
    {
     "data": {
      "text/plain": [
       "Student ID                                        0\n",
       "Study Hours per Week                           1995\n",
       "Attendance Rate                                1992\n",
       "Previous Grades                                1994\n",
       "Participation in Extracurricular Activities    2000\n",
       "Parent Education Level                         2000\n",
       "Passed                                         2000\n",
       "dtype: int64"
      ]
     },
     "execution_count": 7,
     "metadata": {},
     "output_type": "execute_result"
    }
   ],
   "source": [
    "df.isnull().sum()"
   ]
  },
  {
   "cell_type": "code",
   "execution_count": 8,
   "metadata": {},
   "outputs": [],
   "source": [
    "# df = df.dropna()"
   ]
  },
  {
   "cell_type": "code",
   "execution_count": 9,
   "metadata": {},
   "outputs": [
    {
     "data": {
      "text/plain": [
       "Index(['Student ID', 'Study Hours per Week', 'Attendance Rate',\n",
       "       'Previous Grades', 'Participation in Extracurricular Activities',\n",
       "       'Parent Education Level', 'Passed'],\n",
       "      dtype='object')"
      ]
     },
     "execution_count": 9,
     "metadata": {},
     "output_type": "execute_result"
    }
   ],
   "source": [
    "df.columns"
   ]
  },
  {
   "cell_type": "code",
   "execution_count": 10,
   "metadata": {},
   "outputs": [],
   "source": [
    "df = df[[ 'Study Hours per Week', 'Attendance Rate',\n",
    "       'Previous Grades', 'Participation in Extracurricular Activities',\n",
    "       'Parent Education Level', 'Passed']]"
   ]
  },
  {
   "cell_type": "code",
   "execution_count": 11,
   "metadata": {},
   "outputs": [],
   "source": [
    "df.loc[: , 'Participation in Extracurricular Activities'] = df[\"Participation in Extracurricular Activities\"].apply(lambda x : 1 if x == \"Yes\" else 0 )"
   ]
  },
  {
   "cell_type": "code",
   "execution_count": 12,
   "metadata": {},
   "outputs": [
    {
     "name": "stderr",
     "output_type": "stream",
     "text": [
      "/tmp/ipykernel_39830/1155947586.py:1: FutureWarning: Downcasting behavior in `replace` is deprecated and will be removed in a future version. To retain the old behavior, explicitly call `result.infer_objects(copy=False)`. To opt-in to the future behavior, set `pd.set_option('future.no_silent_downcasting', True)`\n",
      "  df.loc[: , \"Parent Education Level\"] = df[\"Parent Education Level\"].replace({\n"
     ]
    }
   ],
   "source": [
    "df.loc[: , \"Parent Education Level\"] = df[\"Parent Education Level\"].replace({\n",
    "    'Associate': 0 , \n",
    "    'Bachelor' : 1 , \n",
    "    'Doctorate' : 2 , \n",
    "    'High School' : 3, \n",
    "    'Master' : 4 \n",
    "})"
   ]
  },
  {
   "cell_type": "code",
   "execution_count": 13,
   "metadata": {},
   "outputs": [],
   "source": [
    "df.loc[: , 'Passed'] = df[\"Passed\"].apply(lambda x : 1 if x == \"Yes\" else 0 )"
   ]
  },
  {
   "cell_type": "code",
   "execution_count": 14,
   "metadata": {},
   "outputs": [
    {
     "name": "stderr",
     "output_type": "stream",
     "text": [
      "/tmp/ipykernel_39830/259547866.py:1: FutureWarning: A value is trying to be set on a copy of a DataFrame or Series through chained assignment using an inplace method.\n",
      "The behavior will change in pandas 3.0. This inplace method will never work because the intermediate object on which we are setting values always behaves as a copy.\n",
      "\n",
      "For example, when doing 'df[col].method(value, inplace=True)', try using 'df.method({col: value}, inplace=True)' or df[col] = df[col].method(value) instead, to perform the operation inplace on the original object.\n",
      "\n",
      "\n",
      "  df['Study Hours per Week'].fillna(df['Study Hours per Week'].mean(), inplace=True)\n",
      "/tmp/ipykernel_39830/259547866.py:2: FutureWarning: A value is trying to be set on a copy of a DataFrame or Series through chained assignment using an inplace method.\n",
      "The behavior will change in pandas 3.0. This inplace method will never work because the intermediate object on which we are setting values always behaves as a copy.\n",
      "\n",
      "For example, when doing 'df[col].method(value, inplace=True)', try using 'df.method({col: value}, inplace=True)' or df[col] = df[col].method(value) instead, to perform the operation inplace on the original object.\n",
      "\n",
      "\n",
      "  df['Attendance Rate'].fillna(df['Attendance Rate'].mean(), inplace=True)\n",
      "/tmp/ipykernel_39830/259547866.py:3: FutureWarning: A value is trying to be set on a copy of a DataFrame or Series through chained assignment using an inplace method.\n",
      "The behavior will change in pandas 3.0. This inplace method will never work because the intermediate object on which we are setting values always behaves as a copy.\n",
      "\n",
      "For example, when doing 'df[col].method(value, inplace=True)', try using 'df.method({col: value}, inplace=True)' or df[col] = df[col].method(value) instead, to perform the operation inplace on the original object.\n",
      "\n",
      "\n",
      "  df['Previous Grades'].fillna(df['Previous Grades'].mean(), inplace=True)\n",
      "/tmp/ipykernel_39830/259547866.py:4: FutureWarning: A value is trying to be set on a copy of a DataFrame or Series through chained assignment using an inplace method.\n",
      "The behavior will change in pandas 3.0. This inplace method will never work because the intermediate object on which we are setting values always behaves as a copy.\n",
      "\n",
      "For example, when doing 'df[col].method(value, inplace=True)', try using 'df.method({col: value}, inplace=True)' or df[col] = df[col].method(value) instead, to perform the operation inplace on the original object.\n",
      "\n",
      "\n",
      "  df['Participation in Extracurricular Activities'].fillna(df['Participation in Extracurricular Activities'].mean(), inplace=True)\n",
      "/tmp/ipykernel_39830/259547866.py:5: FutureWarning: A value is trying to be set on a copy of a DataFrame or Series through chained assignment using an inplace method.\n",
      "The behavior will change in pandas 3.0. This inplace method will never work because the intermediate object on which we are setting values always behaves as a copy.\n",
      "\n",
      "For example, when doing 'df[col].method(value, inplace=True)', try using 'df.method({col: value}, inplace=True)' or df[col] = df[col].method(value) instead, to perform the operation inplace on the original object.\n",
      "\n",
      "\n",
      "  df['Parent Education Level'].fillna(df['Parent Education Level'].mean(), inplace=True)\n",
      "/tmp/ipykernel_39830/259547866.py:5: FutureWarning: Downcasting object dtype arrays on .fillna, .ffill, .bfill is deprecated and will change in a future version. Call result.infer_objects(copy=False) instead. To opt-in to the future behavior, set `pd.set_option('future.no_silent_downcasting', True)`\n",
      "  df['Parent Education Level'].fillna(df['Parent Education Level'].mean(), inplace=True)\n",
      "/tmp/ipykernel_39830/259547866.py:6: FutureWarning: A value is trying to be set on a copy of a DataFrame or Series through chained assignment using an inplace method.\n",
      "The behavior will change in pandas 3.0. This inplace method will never work because the intermediate object on which we are setting values always behaves as a copy.\n",
      "\n",
      "For example, when doing 'df[col].method(value, inplace=True)', try using 'df.method({col: value}, inplace=True)' or df[col] = df[col].method(value) instead, to perform the operation inplace on the original object.\n",
      "\n",
      "\n",
      "  df['Passed'].fillna(df['Passed'].mean(), inplace=True)\n"
     ]
    }
   ],
   "source": [
    "df['Study Hours per Week'].fillna(df['Study Hours per Week'].mean(), inplace=True)\n",
    "df['Attendance Rate'].fillna(df['Attendance Rate'].mean(), inplace=True)\n",
    "df['Previous Grades'].fillna(df['Previous Grades'].mean(), inplace=True)\n",
    "df['Participation in Extracurricular Activities'].fillna(df['Participation in Extracurricular Activities'].mean(), inplace=True)\n",
    "df['Parent Education Level'].fillna(df['Parent Education Level'].mean(), inplace=True)\n",
    "df['Passed'].fillna(df['Passed'].mean(), inplace=True)"
   ]
  },
  {
   "cell_type": "code",
   "execution_count": 15,
   "metadata": {},
   "outputs": [
    {
     "data": {
      "application/vnd.microsoft.datawrangler.viewer.v0+json": {
       "columns": [
        {
         "name": "index",
         "rawType": "int64",
         "type": "integer"
        },
        {
         "name": "Study Hours per Week",
         "rawType": "float64",
         "type": "float"
        },
        {
         "name": "Attendance Rate",
         "rawType": "float64",
         "type": "float"
        },
        {
         "name": "Previous Grades",
         "rawType": "float64",
         "type": "float"
        },
        {
         "name": "Participation in Extracurricular Activities",
         "rawType": "object",
         "type": "unknown"
        },
        {
         "name": "Parent Education Level",
         "rawType": "float64",
         "type": "float"
        },
        {
         "name": "Passed",
         "rawType": "object",
         "type": "unknown"
        }
       ],
       "conversionMethod": "pd.DataFrame",
       "ref": "33eda0ab-8d1d-4948-9d52-78c172f59533",
       "rows": [
        [
         "0",
         "12.5",
         "75.27632340559882",
         "75.0",
         "1",
         "4.0",
         "1"
        ],
        [
         "1",
         "9.3",
         "95.3",
         "60.6",
         "0",
         "3.0",
         "0"
        ],
        [
         "2",
         "13.2",
         "75.27632340559882",
         "64.0",
         "0",
         "0.0",
         "0"
        ],
        [
         "3",
         "17.6",
         "76.8",
         "62.4",
         "1",
         "1.0",
         "0"
        ],
        [
         "4",
         "8.8",
         "89.3",
         "72.7",
         "0",
         "4.0",
         "0"
        ],
        [
         "5",
         "8.8",
         "73.8",
         "69.3",
         "1",
         "3.0",
         "1"
        ],
        [
         "6",
         "17.9",
         "38.6",
         "93.6",
         "0",
         "2.0",
         "1"
        ],
        [
         "7",
         "13.8",
         "95.8",
         "59.2",
         "1",
         "2.0",
         "0"
        ],
        [
         "8",
         "7.7",
         "100.1",
         "91.9",
         "0",
         "1.0",
         "1"
        ],
        [
         "9",
         "12.7",
         "38.4",
         "37.8",
         "1",
         "3.0",
         "0"
        ],
        [
         "10",
         "7.7",
         "54.1",
         "72.3",
         "0",
         "4.0",
         "0"
        ],
        [
         "11",
         "7.7",
         "115.5",
         "41.2",
         "1",
         "4.0",
         "0"
        ],
        [
         "12",
         "11.2",
         "79.6",
         "49.6",
         "1",
         "1.0",
         "0"
        ],
        [
         "13",
         "0.4",
         "75.1",
         "50.4",
         "0",
         "1.9903684210526316",
         "1"
        ],
        [
         "14",
         "1.4",
         "66.5",
         "49.2",
         "0",
         "0.0",
         "1"
        ],
        [
         "15",
         "7.2",
         "54.4",
         "55.9",
         "1",
         "3.0",
         "0"
        ],
        [
         "16",
         "4.9",
         "71.1",
         "98.0",
         "1",
         "3.0",
         "0"
        ],
        [
         "17",
         "11.6",
         "94.5",
         "51.8",
         "0",
         "1.0",
         "1"
        ],
        [
         "18",
         "5.5",
         "74.7",
         "40.8",
         "0",
         "2.0",
         "0"
        ],
        [
         "19",
         "2.9",
         "87.2",
         "72.4",
         "0",
         "0.0",
         "1"
        ],
        [
         "20",
         "17.3",
         "110.3",
         "68.6",
         "0",
         "1.0",
         "1"
        ],
        [
         "21",
         "8.9",
         "63.4",
         "98.2",
         "0",
         "2.0",
         "0"
        ],
        [
         "22",
         "10.3",
         "81.1",
         "64.4",
         "0",
         "3.0",
         "0"
        ],
        [
         "23",
         "2.9",
         "95.1",
         "30.7",
         "0",
         "1.0",
         "1"
        ],
        [
         "24",
         "7.3",
         "56.3",
         "58.6",
         "1",
         "3.0",
         "1"
        ],
        [
         "25",
         "10.6",
         "75.27632340559882",
         "58.3",
         "0",
         "2.0",
         "1"
        ],
        [
         "26",
         "4.2",
         "112.4",
         "46.5",
         "0",
         "3.0",
         "1"
        ],
        [
         "27",
         "11.9",
         "68.2",
         "56.6",
         "1",
         "3.0",
         "0"
        ],
        [
         "28",
         "7.0",
         "96.4",
         "62.8",
         "1",
         "0.0",
         "0"
        ],
        [
         "29",
         "8.5",
         "72.2",
         "64.1",
         "0",
         "2.0",
         "1"
        ],
        [
         "30",
         "7.0",
         "111.0",
         "44.3",
         "0",
         "2.0",
         "1"
        ],
        [
         "31",
         "19.3",
         "42.1",
         "74.1",
         "1",
         "0.0",
         "1"
        ],
        [
         "32",
         "9.9",
         "76.3",
         "89.5",
         "0",
         "0.0",
         "0"
        ],
        [
         "33",
         "4.7",
         "45.4",
         "69.2",
         "0",
         "2.0",
         "1"
        ],
        [
         "34",
         "14.1",
         "61.0",
         "81.6",
         "0",
         "3.0",
         "1"
        ],
        [
         "35",
         "3.9",
         "60.9",
         "67.7",
         "1",
         "4.0",
         "0"
        ],
        [
         "36",
         "11.0",
         "69.7",
         "49.3",
         "1",
         "4.0",
         "1"
        ],
        [
         "37",
         "0.2",
         "51.2",
         "69.1",
         "0",
         "4.0",
         "1"
        ],
        [
         "38",
         "3.4",
         "73.6",
         "57.5",
         "1",
         "4.0",
         "1"
        ],
        [
         "39",
         "11.0",
         "84.2",
         "48.4",
         "0",
         "4.0",
         "1"
        ],
        [
         "40",
         "9.962744375740034",
         "44.4",
         "63.8",
         "1",
         "4.0",
         "1"
        ],
        [
         "41",
         "10.9",
         "62.3",
         "77.3",
         "1",
         "1.0",
         "1"
        ],
        [
         "42",
         "9.4",
         "125.8",
         "59.9",
         "1",
         "0.0",
         "0"
        ],
        [
         "43",
         "8.5",
         "81.6",
         "94.1",
         "1",
         "1.9903684210526316",
         "0"
        ],
        [
         "44",
         "2.6",
         "38.6",
         "79.3",
         "0",
         "2.0",
         "1"
        ],
        [
         "45",
         "6.4",
         "47.0",
         "56.8",
         "0",
         "3.0",
         "0"
        ],
        [
         "46",
         "7.7",
         "79.5",
         "56.3",
         "0",
         "2.0",
         "0"
        ],
        [
         "47",
         "15.3",
         "77.0",
         "97.2",
         "1",
         "3.0",
         "1"
        ],
        [
         "48",
         "11.7",
         "63.3",
         "60.0",
         "0",
         "0.0",
         "0"
        ],
        [
         "49",
         "1.2",
         "118.9",
         "70.5",
         "0",
         "4.0",
         "1"
        ]
       ],
       "shape": {
        "columns": 6,
        "rows": 40000
       }
      },
      "text/html": [
       "<div>\n",
       "<style scoped>\n",
       "    .dataframe tbody tr th:only-of-type {\n",
       "        vertical-align: middle;\n",
       "    }\n",
       "\n",
       "    .dataframe tbody tr th {\n",
       "        vertical-align: top;\n",
       "    }\n",
       "\n",
       "    .dataframe thead th {\n",
       "        text-align: right;\n",
       "    }\n",
       "</style>\n",
       "<table border=\"1\" class=\"dataframe\">\n",
       "  <thead>\n",
       "    <tr style=\"text-align: right;\">\n",
       "      <th></th>\n",
       "      <th>Study Hours per Week</th>\n",
       "      <th>Attendance Rate</th>\n",
       "      <th>Previous Grades</th>\n",
       "      <th>Participation in Extracurricular Activities</th>\n",
       "      <th>Parent Education Level</th>\n",
       "      <th>Passed</th>\n",
       "    </tr>\n",
       "  </thead>\n",
       "  <tbody>\n",
       "    <tr>\n",
       "      <th>0</th>\n",
       "      <td>12.5</td>\n",
       "      <td>75.276323</td>\n",
       "      <td>75.000000</td>\n",
       "      <td>1</td>\n",
       "      <td>4.0</td>\n",
       "      <td>1</td>\n",
       "    </tr>\n",
       "    <tr>\n",
       "      <th>1</th>\n",
       "      <td>9.3</td>\n",
       "      <td>95.300000</td>\n",
       "      <td>60.600000</td>\n",
       "      <td>0</td>\n",
       "      <td>3.0</td>\n",
       "      <td>0</td>\n",
       "    </tr>\n",
       "    <tr>\n",
       "      <th>2</th>\n",
       "      <td>13.2</td>\n",
       "      <td>75.276323</td>\n",
       "      <td>64.000000</td>\n",
       "      <td>0</td>\n",
       "      <td>0.0</td>\n",
       "      <td>0</td>\n",
       "    </tr>\n",
       "    <tr>\n",
       "      <th>3</th>\n",
       "      <td>17.6</td>\n",
       "      <td>76.800000</td>\n",
       "      <td>62.400000</td>\n",
       "      <td>1</td>\n",
       "      <td>1.0</td>\n",
       "      <td>0</td>\n",
       "    </tr>\n",
       "    <tr>\n",
       "      <th>4</th>\n",
       "      <td>8.8</td>\n",
       "      <td>89.300000</td>\n",
       "      <td>72.700000</td>\n",
       "      <td>0</td>\n",
       "      <td>4.0</td>\n",
       "      <td>0</td>\n",
       "    </tr>\n",
       "    <tr>\n",
       "      <th>...</th>\n",
       "      <td>...</td>\n",
       "      <td>...</td>\n",
       "      <td>...</td>\n",
       "      <td>...</td>\n",
       "      <td>...</td>\n",
       "      <td>...</td>\n",
       "    </tr>\n",
       "    <tr>\n",
       "      <th>39995</th>\n",
       "      <td>15.6</td>\n",
       "      <td>93.800000</td>\n",
       "      <td>51.400000</td>\n",
       "      <td>1</td>\n",
       "      <td>4.0</td>\n",
       "      <td>0</td>\n",
       "    </tr>\n",
       "    <tr>\n",
       "      <th>39996</th>\n",
       "      <td>11.3</td>\n",
       "      <td>66.400000</td>\n",
       "      <td>64.200000</td>\n",
       "      <td>0</td>\n",
       "      <td>2.0</td>\n",
       "      <td>1</td>\n",
       "    </tr>\n",
       "    <tr>\n",
       "      <th>39997</th>\n",
       "      <td>13.1</td>\n",
       "      <td>65.600000</td>\n",
       "      <td>38.100000</td>\n",
       "      <td>0</td>\n",
       "      <td>1.0</td>\n",
       "      <td>0</td>\n",
       "    </tr>\n",
       "    <tr>\n",
       "      <th>39998</th>\n",
       "      <td>14.1</td>\n",
       "      <td>74.900000</td>\n",
       "      <td>65.440107</td>\n",
       "      <td>1</td>\n",
       "      <td>4.0</td>\n",
       "      <td>0</td>\n",
       "    </tr>\n",
       "    <tr>\n",
       "      <th>39999</th>\n",
       "      <td>11.8</td>\n",
       "      <td>55.100000</td>\n",
       "      <td>68.500000</td>\n",
       "      <td>0</td>\n",
       "      <td>1.0</td>\n",
       "      <td>1</td>\n",
       "    </tr>\n",
       "  </tbody>\n",
       "</table>\n",
       "<p>40000 rows × 6 columns</p>\n",
       "</div>"
      ],
      "text/plain": [
       "       Study Hours per Week  Attendance Rate  Previous Grades  \\\n",
       "0                      12.5        75.276323        75.000000   \n",
       "1                       9.3        95.300000        60.600000   \n",
       "2                      13.2        75.276323        64.000000   \n",
       "3                      17.6        76.800000        62.400000   \n",
       "4                       8.8        89.300000        72.700000   \n",
       "...                     ...              ...              ...   \n",
       "39995                  15.6        93.800000        51.400000   \n",
       "39996                  11.3        66.400000        64.200000   \n",
       "39997                  13.1        65.600000        38.100000   \n",
       "39998                  14.1        74.900000        65.440107   \n",
       "39999                  11.8        55.100000        68.500000   \n",
       "\n",
       "      Participation in Extracurricular Activities  Parent Education Level  \\\n",
       "0                                               1                     4.0   \n",
       "1                                               0                     3.0   \n",
       "2                                               0                     0.0   \n",
       "3                                               1                     1.0   \n",
       "4                                               0                     4.0   \n",
       "...                                           ...                     ...   \n",
       "39995                                           1                     4.0   \n",
       "39996                                           0                     2.0   \n",
       "39997                                           0                     1.0   \n",
       "39998                                           1                     4.0   \n",
       "39999                                           0                     1.0   \n",
       "\n",
       "      Passed  \n",
       "0          1  \n",
       "1          0  \n",
       "2          0  \n",
       "3          0  \n",
       "4          0  \n",
       "...      ...  \n",
       "39995      0  \n",
       "39996      1  \n",
       "39997      0  \n",
       "39998      0  \n",
       "39999      1  \n",
       "\n",
       "[40000 rows x 6 columns]"
      ]
     },
     "execution_count": 15,
     "metadata": {},
     "output_type": "execute_result"
    }
   ],
   "source": [
    "df"
   ]
  },
  {
   "cell_type": "code",
   "execution_count": 16,
   "metadata": {},
   "outputs": [
    {
     "data": {
      "image/png": "[encoded data removed]",
      "text/plain": [
       "<Figure size 800x600 with 2 Axes>"
      ]
     },
     "metadata": {},
     "output_type": "display_data"
    }
   ],
   "source": [
    "# Compute and visualize the correlation matrix\n",
    "plt.figure(figsize=(8, 6))\n",
    "sns.heatmap(df.corr(), annot=True, cmap=\"coolwarm\")\n",
    "plt.title(\"Correlation Matrix\")\n",
    "plt.show()\n"
   ]
  },
  {
   "cell_type": "code",
   "execution_count": 17,
   "metadata": {},
   "outputs": [
    {
     "name": "stdout",
     "output_type": "stream",
     "text": [
      "<class 'pandas.core.frame.DataFrame'>\n",
      "RangeIndex: 40000 entries, 0 to 39999\n",
      "Data columns (total 6 columns):\n",
      " #   Column                                       Non-Null Count  Dtype\n",
      "---  ------                                       --------------  -----\n",
      " 0   Study Hours per Week                         40000 non-null  int64\n",
      " 1   Attendance Rate                              40000 non-null  int64\n",
      " 2   Previous Grades                              40000 non-null  int64\n",
      " 3   Participation in Extracurricular Activities  40000 non-null  int64\n",
      " 4   Parent Education Level                       40000 non-null  int64\n",
      " 5   Passed                                       40000 non-null  int64\n",
      "dtypes: int64(6)\n",
      "memory usage: 1.8 MB\n"
     ]
    }
   ],
   "source": [
    "df = df.astype(int)\n",
    "df.info()"
   ]
  },
  {
   "cell_type": "code",
   "execution_count": 18,
   "metadata": {},
   "outputs": [],
   "source": [
    "X = df.iloc[:,:-1]\n",
    "Y = df.iloc[:,-1].astype(int)"
   ]
  },
  {
   "cell_type": "code",
   "execution_count": 19,
   "metadata": {},
   "outputs": [
    {
     "name": "stderr",
     "output_type": "stream",
     "text": [
      "2025-03-09 21:37:07.408897: E external/local_xla/xla/stream_executor/cuda/cuda_fft.cc:477] Unable to register cuFFT factory: Attempting to register factory for plugin cuFFT when one has already been registered\n",
      "WARNING: All log messages before absl::InitializeLog() is called are written to STDERR\n",
      "E0000 00:00:1741536427.430415   39830 cuda_dnn.cc:8310] Unable to register cuDNN factory: Attempting to register factory for plugin cuDNN when one has already been registered\n",
      "E0000 00:00:1741536427.437190   39830 cuda_blas.cc:1418] Unable to register cuBLAS factory: Attempting to register factory for plugin cuBLAS when one has already been registered\n",
      "2025-03-09 21:37:07.458406: I tensorflow/core/platform/cpu_feature_guard.cc:210] This TensorFlow binary is optimized to use available CPU instructions in performance-critical operations.\n",
      "To enable the following instructions: AVX2 FMA, in other operations, rebuild TensorFlow with the appropriate compiler flags.\n"
     ]
    }
   ],
   "source": [
    "import tensorflow as tf\n",
    "from tensorflow import keras\n",
    "from tensorflow.keras import layers\n",
    "from sklearn.model_selection import train_test_split\n",
    "import numpy as np\n",
    "from tensorflow.keras.models import Sequential\n",
    "from tensorflow.keras.layers import Dense, Dropout\n",
    "from sklearn.metrics import accuracy_score, classification_report"
   ]
  },
  {
   "cell_type": "code",
   "execution_count": 20,
   "metadata": {},
   "outputs": [],
   "source": [
    "X_train, X_test, y_train, y_test = train_test_split(X, Y, test_size=0.2, random_state=42)"
   ]
  },
  {
   "cell_type": "code",
   "execution_count": 21,
   "metadata": {},
   "outputs": [
    {
     "name": "stderr",
     "output_type": "stream",
     "text": [
      "/home/jonah/.local/lib/python3.12/site-packages/keras/src/layers/core/dense.py:87: UserWarning: Do not pass an `input_shape`/`input_dim` argument to a layer. When using Sequential models, prefer using an `Input(shape)` object as the first layer in the model instead.\n",
      "  super().__init__(activity_regularizer=activity_regularizer, **kwargs)\n",
      "I0000 00:00:1741536430.278070   39830 gpu_device.cc:2022] Created device /job:localhost/replica:0/task:0/device:GPU:0 with 1958 MB memory:  -> device: 0, name: NVIDIA GeForce GTX 1650, pci bus id: 0000:01:00.0, compute capability: 7.5\n"
     ]
    }
   ],
   "source": [
    "model = Sequential([\n",
    "    Dense(64, activation='relu', input_shape=(X_train.shape[1],)),\n",
    "    Dropout(0.3),\n",
    "    Dense(32, activation='relu'),\n",
    "    Dropout(0.3),\n",
    "    Dense(1, activation='sigmoid')\n",
    "])"
   ]
  },
  {
   "cell_type": "code",
   "execution_count": 22,
   "metadata": {},
   "outputs": [],
   "source": [
    "model.compile(optimizer='adam', loss='binary_crossentropy', metrics=['accuracy'])"
   ]
  },
  {
   "cell_type": "code",
   "execution_count": 23,
   "metadata": {},
   "outputs": [
    {
     "name": "stdout",
     "output_type": "stream",
     "text": [
      "Epoch 1/20\n"
     ]
    },
    {
     "name": "stderr",
     "output_type": "stream",
     "text": [
      "WARNING: All log messages before absl::InitializeLog() is called are written to STDERR\n",
      "I0000 00:00:1741536432.680233   39893 service.cc:148] XLA service 0x7de394005a80 initialized for platform CUDA (this does not guarantee that XLA will be used). Devices:\n",
      "I0000 00:00:1741536432.680275   39893 service.cc:156]   StreamExecutor device (0): NVIDIA GeForce GTX 1650, Compute Capability 7.5\n",
      "2025-03-09 21:37:12.746154: I tensorflow/compiler/mlir/tensorflow/utils/dump_mlir_util.cc:268] disabling MLIR crash reproducer, set env var `MLIR_CRASH_REPRODUCER_DIRECTORY` to enable.\n",
      "I0000 00:00:1741536432.929740   39893 cuda_dnn.cc:529] Loaded cuDNN version 90300\n"
     ]
    },
    {
     "name": "stdout",
     "output_type": "stream",
     "text": [
      "\u001b[1m  50/1000\u001b[0m \u001b[32m━\u001b[0m\u001b[37m━━━━━━━━━━━━━━━━━━━\u001b[0m \u001b[1m2s\u001b[0m 3ms/step - accuracy: 0.5051 - loss: 6.6071"
     ]
    },
    {
     "name": "stderr",
     "output_type": "stream",
     "text": [
      "I0000 00:00:1741536434.472986   39893 device_compiler.h:188] Compiled cluster using XLA!  This line is logged at most once for the lifetime of the process.\n"
     ]
    },
    {
     "name": "stdout",
     "output_type": "stream",
     "text": [
      "\u001b[1m1000/1000\u001b[0m \u001b[32m━━━━━━━━━━━━━━━━━━━━\u001b[0m\u001b[37m\u001b[0m \u001b[1m7s\u001b[0m 4ms/step - accuracy: 0.5075 - loss: 2.1864 - val_accuracy: 0.5265 - val_loss: 0.6919\n",
      "Epoch 2/20\n",
      "\u001b[1m1000/1000\u001b[0m \u001b[32m━━━━━━━━━━━━━━━━━━━━\u001b[0m\u001b[37m\u001b[0m \u001b[1m3s\u001b[0m 3ms/step - accuracy: 0.5191 - loss: 0.6952 - val_accuracy: 0.5265 - val_loss: 0.6918\n",
      "Epoch 3/20\n",
      "\u001b[1m1000/1000\u001b[0m \u001b[32m━━━━━━━━━━━━━━━━━━━━\u001b[0m\u001b[37m\u001b[0m \u001b[1m3s\u001b[0m 3ms/step - accuracy: 0.5183 - loss: 0.6938 - val_accuracy: 0.5265 - val_loss: 0.6918\n",
      "Epoch 4/20\n",
      "\u001b[1m1000/1000\u001b[0m \u001b[32m━━━━━━━━━━━━━━━━━━━━\u001b[0m\u001b[37m\u001b[0m \u001b[1m3s\u001b[0m 3ms/step - accuracy: 0.5239 - loss: 0.6928 - val_accuracy: 0.5265 - val_loss: 0.6918\n",
      "Epoch 5/20\n",
      "\u001b[1m1000/1000\u001b[0m \u001b[32m━━━━━━━━━━━━━━━━━━━━\u001b[0m\u001b[37m\u001b[0m \u001b[1m4s\u001b[0m 4ms/step - accuracy: 0.5254 - loss: 0.6923 - val_accuracy: 0.5265 - val_loss: 0.6917\n",
      "Epoch 6/20\n",
      "\u001b[1m1000/1000\u001b[0m \u001b[32m━━━━━━━━━━━━━━━━━━━━\u001b[0m\u001b[37m\u001b[0m \u001b[1m4s\u001b[0m 4ms/step - accuracy: 0.5232 - loss: 0.6921 - val_accuracy: 0.5265 - val_loss: 0.6917\n",
      "Epoch 7/20\n",
      "\u001b[1m1000/1000\u001b[0m \u001b[32m━━━━━━━━━━━━━━━━━━━━\u001b[0m\u001b[37m\u001b[0m \u001b[1m4s\u001b[0m 4ms/step - accuracy: 0.5300 - loss: 0.6914 - val_accuracy: 0.5265 - val_loss: 0.6918\n",
      "Epoch 8/20\n",
      "\u001b[1m1000/1000\u001b[0m \u001b[32m━━━━━━━━━━━━━━━━━━━━\u001b[0m\u001b[37m\u001b[0m \u001b[1m4s\u001b[0m 4ms/step - accuracy: 0.5241 - loss: 0.6920 - val_accuracy: 0.5265 - val_loss: 0.6918\n",
      "Epoch 9/20\n",
      "\u001b[1m1000/1000\u001b[0m \u001b[32m━━━━━━━━━━━━━━━━━━━━\u001b[0m\u001b[37m\u001b[0m \u001b[1m4s\u001b[0m 4ms/step - accuracy: 0.5264 - loss: 0.6918 - val_accuracy: 0.5265 - val_loss: 0.6918\n",
      "Epoch 10/20\n",
      "\u001b[1m1000/1000\u001b[0m \u001b[32m━━━━━━━━━━━━━━━━━━━━\u001b[0m\u001b[37m\u001b[0m \u001b[1m4s\u001b[0m 4ms/step - accuracy: 0.5244 - loss: 0.6920 - val_accuracy: 0.5265 - val_loss: 0.6917\n",
      "Epoch 11/20\n",
      "\u001b[1m1000/1000\u001b[0m \u001b[32m━━━━━━━━━━━━━━━━━━━━\u001b[0m\u001b[37m\u001b[0m \u001b[1m4s\u001b[0m 4ms/step - accuracy: 0.5268 - loss: 0.6918 - val_accuracy: 0.5265 - val_loss: 0.6918\n",
      "Epoch 12/20\n",
      "\u001b[1m1000/1000\u001b[0m \u001b[32m━━━━━━━━━━━━━━━━━━━━\u001b[0m\u001b[37m\u001b[0m \u001b[1m4s\u001b[0m 4ms/step - accuracy: 0.5254 - loss: 0.6919 - val_accuracy: 0.5265 - val_loss: 0.6918\n",
      "Epoch 13/20\n",
      "\u001b[1m1000/1000\u001b[0m \u001b[32m━━━━━━━━━━━━━━━━━━━━\u001b[0m\u001b[37m\u001b[0m \u001b[1m4s\u001b[0m 4ms/step - accuracy: 0.5247 - loss: 0.6921 - val_accuracy: 0.5265 - val_loss: 0.6918\n",
      "Epoch 14/20\n",
      "\u001b[1m1000/1000\u001b[0m \u001b[32m━━━━━━━━━━━━━━━━━━━━\u001b[0m\u001b[37m\u001b[0m \u001b[1m3s\u001b[0m 3ms/step - accuracy: 0.5262 - loss: 0.6919 - val_accuracy: 0.5265 - val_loss: 0.6918\n",
      "Epoch 15/20\n",
      "\u001b[1m1000/1000\u001b[0m \u001b[32m━━━━━━━━━━━━━━━━━━━━\u001b[0m\u001b[37m\u001b[0m \u001b[1m3s\u001b[0m 3ms/step - accuracy: 0.5271 - loss: 0.6917 - val_accuracy: 0.5265 - val_loss: 0.6918\n",
      "Epoch 16/20\n",
      "\u001b[1m1000/1000\u001b[0m \u001b[32m━━━━━━━━━━━━━━━━━━━━\u001b[0m\u001b[37m\u001b[0m \u001b[1m3s\u001b[0m 3ms/step - accuracy: 0.5258 - loss: 0.6919 - val_accuracy: 0.5265 - val_loss: 0.6918\n",
      "Epoch 17/20\n",
      "\u001b[1m1000/1000\u001b[0m \u001b[32m━━━━━━━━━━━━━━━━━━━━\u001b[0m\u001b[37m\u001b[0m \u001b[1m3s\u001b[0m 3ms/step - accuracy: 0.5249 - loss: 0.6921 - val_accuracy: 0.5265 - val_loss: 0.6917\n",
      "Epoch 18/20\n",
      "\u001b[1m1000/1000\u001b[0m \u001b[32m━━━━━━━━━━━━━━━━━━━━\u001b[0m\u001b[37m\u001b[0m \u001b[1m3s\u001b[0m 3ms/step - accuracy: 0.5249 - loss: 0.6920 - val_accuracy: 0.5265 - val_loss: 0.6917\n",
      "Epoch 19/20\n",
      "\u001b[1m1000/1000\u001b[0m \u001b[32m━━━━━━━━━━━━━━━━━━━━\u001b[0m\u001b[37m\u001b[0m \u001b[1m3s\u001b[0m 3ms/step - accuracy: 0.5290 - loss: 0.6915 - val_accuracy: 0.5265 - val_loss: 0.6918\n",
      "Epoch 20/20\n",
      "\u001b[1m1000/1000\u001b[0m \u001b[32m━━━━━━━━━━━━━━━━━━━━\u001b[0m\u001b[37m\u001b[0m \u001b[1m3s\u001b[0m 3ms/step - accuracy: 0.5273 - loss: 0.6917 - val_accuracy: 0.5265 - val_loss: 0.6918\n"
     ]
    },
    {
     "data": {
      "text/plain": [
       "<keras.src.callbacks.history.History at 0x7de470956cf0>"
      ]
     },
     "execution_count": 23,
     "metadata": {},
     "output_type": "execute_result"
    }
   ],
   "source": [
    "model.fit(X_train, y_train, epochs=20, batch_size=32, validation_data=(X_test, y_test))"
   ]
  },
  {
   "cell_type": "code",
   "execution_count": 24,
   "metadata": {},
   "outputs": [
    {
     "name": "stdout",
     "output_type": "stream",
     "text": [
      "\u001b[1m250/250\u001b[0m \u001b[32m━━━━━━━━━━━━━━━━━━━━\u001b[0m\u001b[37m\u001b[0m \u001b[1m1s\u001b[0m 2ms/step\n",
      "TensorFlow Model Accuracy: 0.5265\n",
      "Classification Report:\n",
      "               precision    recall  f1-score   support\n",
      "\n",
      "           0       0.53      1.00      0.69      4212\n",
      "           1       0.00      0.00      0.00      3788\n",
      "\n",
      "    accuracy                           0.53      8000\n",
      "   macro avg       0.26      0.50      0.34      8000\n",
      "weighted avg       0.28      0.53      0.36      8000\n",
      "\n"
     ]
    },
    {
     "name": "stderr",
     "output_type": "stream",
     "text": [
      "/home/jonah/.local/lib/python3.12/site-packages/sklearn/metrics/_classification.py:1565: UndefinedMetricWarning: Precision is ill-defined and being set to 0.0 in labels with no predicted samples. Use `zero_division` parameter to control this behavior.\n",
      "  _warn_prf(average, modifier, f\"{metric.capitalize()} is\", len(result))\n",
      "/home/jonah/.local/lib/python3.12/site-packages/sklearn/metrics/_classification.py:1565: UndefinedMetricWarning: Precision is ill-defined and being set to 0.0 in labels with no predicted samples. Use `zero_division` parameter to control this behavior.\n",
      "  _warn_prf(average, modifier, f\"{metric.capitalize()} is\", len(result))\n",
      "/home/jonah/.local/lib/python3.12/site-packages/sklearn/metrics/_classification.py:1565: UndefinedMetricWarning: Precision is ill-defined and being set to 0.0 in labels with no predicted samples. Use `zero_division` parameter to control this behavior.\n",
      "  _warn_prf(average, modifier, f\"{metric.capitalize()} is\", len(result))\n"
     ]
    }
   ],
   "source": [
    "# Evaluate the model\n",
    "y_pred = (model.predict(X_test) > 0.5).astype(int)\n",
    "accuracy = accuracy_score(y_test, y_pred)\n",
    "report = classification_report(y_test, y_pred)\n",
    "\n",
    "print(f\"TensorFlow Model Accuracy: {accuracy:.4f}\")\n",
    "print(\"Classification Report:\\n\", report)"
   ]
  },
  {
   "cell_type": "code",
   "execution_count": 25,
   "metadata": {},
   "outputs": [],
   "source": [
    "from sklearn.model_selection import train_test_split\n",
    "\n",
    "X_train, X_test, y_train, y_test = train_test_split(X, Y, test_size=0.25, random_state=33)"
   ]
  },
  {
   "cell_type": "code",
   "execution_count": 26,
   "metadata": {},
   "outputs": [
    {
     "name": "stdout",
     "output_type": "stream",
     "text": [
      "<class 'pandas.core.series.Series'>\n",
      "Index: 30000 entries, 39052 to 23572\n",
      "Series name: Passed\n",
      "Non-Null Count  Dtype\n",
      "--------------  -----\n",
      "30000 non-null  int64\n",
      "dtypes: int64(1)\n",
      "memory usage: 468.8 KB\n"
     ]
    }
   ],
   "source": [
    "y_train.info()"
   ]
  },
  {
   "cell_type": "code",
   "execution_count": 27,
   "metadata": {},
   "outputs": [],
   "source": [
    "from sklearn.metrics import accuracy_score, f1_score, precision_score, recall_score\n",
    "from sklearn.linear_model import LogisticRegression\n",
    "from sklearn.neighbors import KNeighborsClassifier\n",
    "from sklearn.svm import SVC\n",
    "from sklearn.ensemble import RandomForestClassifier,GradientBoostingClassifier\n",
    "from sklearn.naive_bayes import GaussianNB\n",
    "from sklearn.tree import DecisionTreeClassifier\n",
    "from sklearn.ensemble import GradientBoostingClassifier"
   ]
  },
  {
   "cell_type": "code",
   "execution_count": 28,
   "metadata": {},
   "outputs": [],
   "source": [
    "models = {\n",
    "    \"LogisticRegression\" : LogisticRegression(max_iter=1000),\n",
    "    \"KNeighborsClassifier\" : KNeighborsClassifier(n_neighbors=3),\n",
    "    \"svm\" : SVC(kernel='linear'),\n",
    "    \"RandomForestClassifier\" : RandomForestClassifier(n_estimators=100, max_depth=5, random_state=42),\n",
    "    \"GaussianNB\" : GaussianNB(),\n",
    "    \"DecisionTreeClassifier\" : DecisionTreeClassifier(max_depth=5),\n",
    "    \"GradientBoostingClassifier\" : GradientBoostingClassifier(n_estimators=100, learning_rate=1.0, max_depth=1, random_state=42),\n",
    "    \"Gradient Boosting\": GradientBoostingClassifier(n_estimators=100, random_state=42),\n",
    "}"
   ]
  },
  {
   "cell_type": "code",
   "execution_count": 29,
   "metadata": {},
   "outputs": [
    {
     "name": "stdout",
     "output_type": "stream",
     "text": [
      "                        Model  Accuracy  Precision  Recall  F1-Score\n",
      "0          LogisticRegression    0.5296   0.646349  0.5296  0.367633\n",
      "1        KNeighborsClassifier    0.5019   0.501906  0.5019  0.501903\n",
      "2                         svm    0.5291   0.279947  0.5291  0.366159\n",
      "3      RandomForestClassifier    0.5293   0.517673  0.5293  0.388240\n",
      "4                  GaussianNB    0.5290   0.515237  0.5290  0.394414\n",
      "5      DecisionTreeClassifier    0.5186   0.503631  0.5186  0.471433\n",
      "6  GradientBoostingClassifier    0.5270   0.512814  0.5270  0.446115\n",
      "7           Gradient Boosting    0.5251   0.506558  0.5251  0.432686\n"
     ]
    }
   ],
   "source": [
    "\n",
    "\n",
    "\n",
    "results = []\n",
    "\n",
    "# Train and evaluate models\n",
    "for name, model in models.items():\n",
    "    model.fit(X_train, y_train)  # Train model\n",
    "    y_pred = model.predict(X_test)  # Predict on test set\n",
    "    accuracy = accuracy_score(y_test, y_pred)  # Calculate accuracy\n",
    "    precision = precision_score(y_test, y_pred, average=\"weighted\", zero_division=0)\n",
    "    recall = recall_score(y_test, y_pred, average=\"weighted\")\n",
    "    f1 = f1_score(y_test, y_pred, average=\"weighted\")\n",
    "    # print(f\"Model: {name} | Accuracy: {accuracy:.4f} | Precision: {precision:.4f} | Recall: {recall:.4f} | F1-Score: {f1:.4f}\")\n",
    "    results.append({\"Model\": name, \"Accuracy\": accuracy, \"Precision\": precision, \"Recall\": recall, \"F1-Score\": f1})    \n",
    "\n",
    "# Convert results to DataFrame for tabular display\n",
    "df_results = pd.DataFrame(results)\n",
    "print(df_results)"
   ]
  },
  {
   "cell_type": "code",
   "execution_count": 30,
   "metadata": {},
   "outputs": [
    {
     "data": {
      "application/vnd.microsoft.datawrangler.viewer.v0+json": {
       "columns": [
        {
         "name": "index",
         "rawType": "int64",
         "type": "integer"
        },
        {
         "name": "Model",
         "rawType": "object",
         "type": "string"
        },
        {
         "name": "Accuracy",
         "rawType": "float64",
         "type": "float"
        },
        {
         "name": "Precision",
         "rawType": "float64",
         "type": "float"
        },
        {
         "name": "Recall",
         "rawType": "float64",
         "type": "float"
        },
        {
         "name": "F1-Score",
         "rawType": "float64",
         "type": "float"
        }
       ],
       "conversionMethod": "pd.DataFrame",
       "ref": "0d16ee65-af0e-4a42-8df7-cad94840cdc6",
       "rows": [
        [
         "0",
         "LogisticRegression",
         "0.5296",
         "0.6463486293219454",
         "0.5296",
         "0.36763341104155817"
        ],
        [
         "1",
         "KNeighborsClassifier",
         "0.5019",
         "0.5019058175301714",
         "0.5019",
         "0.5019029037629713"
        ],
        [
         "2",
         "svm",
         "0.5291",
         "0.27994681",
         "0.5291",
         "0.3661589300895952"
        ],
        [
         "3",
         "RandomForestClassifier",
         "0.5293",
         "0.5176732893697678",
         "0.5293",
         "0.3882399446778262"
        ],
        [
         "4",
         "GaussianNB",
         "0.529",
         "0.5152371167601077",
         "0.529",
         "0.39441410542138483"
        ],
        [
         "5",
         "DecisionTreeClassifier",
         "0.5186",
         "0.5036307379660919",
         "0.5186",
         "0.47143298224401087"
        ],
        [
         "6",
         "GradientBoostingClassifier",
         "0.527",
         "0.5128137976631333",
         "0.527",
         "0.4461145469787927"
        ],
        [
         "7",
         "Gradient Boosting",
         "0.5251",
         "0.5065583947447205",
         "0.5251",
         "0.43268582376894676"
        ]
       ],
       "shape": {
        "columns": 5,
        "rows": 8
       }
      },
      "text/html": [
       "<div>\n",
       "<style scoped>\n",
       "    .dataframe tbody tr th:only-of-type {\n",
       "        vertical-align: middle;\n",
       "    }\n",
       "\n",
       "    .dataframe tbody tr th {\n",
       "        vertical-align: top;\n",
       "    }\n",
       "\n",
       "    .dataframe thead th {\n",
       "        text-align: right;\n",
       "    }\n",
       "</style>\n",
       "<table border=\"1\" class=\"dataframe\">\n",
       "  <thead>\n",
       "    <tr style=\"text-align: right;\">\n",
       "      <th></th>\n",
       "      <th>Model</th>\n",
       "      <th>Accuracy</th>\n",
       "      <th>Precision</th>\n",
       "      <th>Recall</th>\n",
       "      <th>F1-Score</th>\n",
       "    </tr>\n",
       "  </thead>\n",
       "  <tbody>\n",
       "    <tr>\n",
       "      <th>0</th>\n",
       "      <td>LogisticRegression</td>\n",
       "      <td>0.5296</td>\n",
       "      <td>0.646349</td>\n",
       "      <td>0.5296</td>\n",
       "      <td>0.367633</td>\n",
       "    </tr>\n",
       "    <tr>\n",
       "      <th>1</th>\n",
       "      <td>KNeighborsClassifier</td>\n",
       "      <td>0.5019</td>\n",
       "      <td>0.501906</td>\n",
       "      <td>0.5019</td>\n",
       "      <td>0.501903</td>\n",
       "    </tr>\n",
       "    <tr>\n",
       "      <th>2</th>\n",
       "      <td>svm</td>\n",
       "      <td>0.5291</td>\n",
       "      <td>0.279947</td>\n",
       "      <td>0.5291</td>\n",
       "      <td>0.366159</td>\n",
       "    </tr>\n",
       "    <tr>\n",
       "      <th>3</th>\n",
       "      <td>RandomForestClassifier</td>\n",
       "      <td>0.5293</td>\n",
       "      <td>0.517673</td>\n",
       "      <td>0.5293</td>\n",
       "      <td>0.388240</td>\n",
       "    </tr>\n",
       "    <tr>\n",
       "      <th>4</th>\n",
       "      <td>GaussianNB</td>\n",
       "      <td>0.5290</td>\n",
       "      <td>0.515237</td>\n",
       "      <td>0.5290</td>\n",
       "      <td>0.394414</td>\n",
       "    </tr>\n",
       "    <tr>\n",
       "      <th>5</th>\n",
       "      <td>DecisionTreeClassifier</td>\n",
       "      <td>0.5186</td>\n",
       "      <td>0.503631</td>\n",
       "      <td>0.5186</td>\n",
       "      <td>0.471433</td>\n",
       "    </tr>\n",
       "    <tr>\n",
       "      <th>6</th>\n",
       "      <td>GradientBoostingClassifier</td>\n",
       "      <td>0.5270</td>\n",
       "      <td>0.512814</td>\n",
       "      <td>0.5270</td>\n",
       "      <td>0.446115</td>\n",
       "    </tr>\n",
       "    <tr>\n",
       "      <th>7</th>\n",
       "      <td>Gradient Boosting</td>\n",
       "      <td>0.5251</td>\n",
       "      <td>0.506558</td>\n",
       "      <td>0.5251</td>\n",
       "      <td>0.432686</td>\n",
       "    </tr>\n",
       "  </tbody>\n",
       "</table>\n",
       "</div>"
      ],
      "text/plain": [
       "                        Model  Accuracy  Precision  Recall  F1-Score\n",
       "0          LogisticRegression    0.5296   0.646349  0.5296  0.367633\n",
       "1        KNeighborsClassifier    0.5019   0.501906  0.5019  0.501903\n",
       "2                         svm    0.5291   0.279947  0.5291  0.366159\n",
       "3      RandomForestClassifier    0.5293   0.517673  0.5293  0.388240\n",
       "4                  GaussianNB    0.5290   0.515237  0.5290  0.394414\n",
       "5      DecisionTreeClassifier    0.5186   0.503631  0.5186  0.471433\n",
       "6  GradientBoostingClassifier    0.5270   0.512814  0.5270  0.446115\n",
       "7           Gradient Boosting    0.5251   0.506558  0.5251  0.432686"
      ]
     },
     "execution_count": 30,
     "metadata": {},
     "output_type": "execute_result"
    }
   ],
   "source": [
    "df_results"
   ]
  },
  {
   "cell_type": "code",
   "execution_count": 31,
   "metadata": {},
   "outputs": [
    {
     "name": "stdout",
     "output_type": "stream",
     "text": [
      "Accuracy: 0.5293 | Precision: 0.5177 | Recall: 0.5293 | F1-Score: 0.3882\n"
     ]
    }
   ],
   "source": [
    "model = RandomForestClassifier(n_estimators=100, max_depth=5, random_state=42)\n",
    "model.fit(X_train, y_train)  # Train model\n",
    "y_pred = model.predict(X_test)  # Predict on test set\n",
    "accuracy = accuracy_score(y_test, y_pred)  # Calculate accuracy\n",
    "precision = precision_score(y_test, y_pred, average=\"weighted\", zero_division=0)\n",
    "recall = recall_score(y_test, y_pred, average=\"weighted\")\n",
    "f1 = f1_score(y_test, y_pred, average=\"weighted\")\n",
    "print(f\"Accuracy: {accuracy:.4f} | Precision: {precision:.4f} | Recall: {recall:.4f} | F1-Score: {f1:.4f}\")"
   ]
  },
  {
   "cell_type": "code",
   "execution_count": 32,
   "metadata": {},
   "outputs": [],
   "source": [
    "import pickle\n",
    "pickle.dump(model, open('model.pkl', 'wb'))"
   ]
  },
  {
   "cell_type": "code",
   "execution_count": 33,
   "metadata": {},
   "outputs": [
    {
     "data": {
      "application/vnd.microsoft.datawrangler.viewer.v0+json": {
       "columns": [
        {
         "name": "index",
         "rawType": "int64",
         "type": "integer"
        },
        {
         "name": "Study Hours per Week",
         "rawType": "int64",
         "type": "integer"
        },
        {
         "name": "Attendance Rate",
         "rawType": "int64",
         "type": "integer"
        },
        {
         "name": "Previous Grades",
         "rawType": "int64",
         "type": "integer"
        },
        {
         "name": "Participation in Extracurricular Activities",
         "rawType": "int64",
         "type": "integer"
        },
        {
         "name": "Parent Education Level",
         "rawType": "int64",
         "type": "integer"
        },
        {
         "name": "Passed",
         "rawType": "int64",
         "type": "integer"
        }
       ],
       "conversionMethod": "pd.DataFrame",
       "ref": "d67773c1-6d45-4ee8-9276-5c66fa4bc2bf",
       "rows": [
        [
         "0",
         "12",
         "75",
         "75",
         "1",
         "4",
         "1"
        ],
        [
         "1",
         "9",
         "95",
         "60",
         "0",
         "3",
         "0"
        ],
        [
         "2",
         "13",
         "75",
         "64",
         "0",
         "0",
         "0"
        ],
        [
         "3",
         "17",
         "76",
         "62",
         "1",
         "1",
         "0"
        ],
        [
         "4",
         "8",
         "89",
         "72",
         "0",
         "4",
         "0"
        ],
        [
         "5",
         "8",
         "73",
         "69",
         "1",
         "3",
         "1"
        ],
        [
         "6",
         "17",
         "38",
         "93",
         "0",
         "2",
         "1"
        ],
        [
         "7",
         "13",
         "95",
         "59",
         "1",
         "2",
         "0"
        ],
        [
         "8",
         "7",
         "100",
         "91",
         "0",
         "1",
         "1"
        ],
        [
         "9",
         "12",
         "38",
         "37",
         "1",
         "3",
         "0"
        ],
        [
         "10",
         "7",
         "54",
         "72",
         "0",
         "4",
         "0"
        ],
        [
         "11",
         "7",
         "115",
         "41",
         "1",
         "4",
         "0"
        ],
        [
         "12",
         "11",
         "79",
         "49",
         "1",
         "1",
         "0"
        ],
        [
         "13",
         "0",
         "75",
         "50",
         "0",
         "1",
         "1"
        ],
        [
         "14",
         "1",
         "66",
         "49",
         "0",
         "0",
         "1"
        ],
        [
         "15",
         "7",
         "54",
         "55",
         "1",
         "3",
         "0"
        ],
        [
         "16",
         "4",
         "71",
         "98",
         "1",
         "3",
         "0"
        ],
        [
         "17",
         "11",
         "94",
         "51",
         "0",
         "1",
         "1"
        ],
        [
         "18",
         "5",
         "74",
         "40",
         "0",
         "2",
         "0"
        ],
        [
         "19",
         "2",
         "87",
         "72",
         "0",
         "0",
         "1"
        ],
        [
         "20",
         "17",
         "110",
         "68",
         "0",
         "1",
         "1"
        ],
        [
         "21",
         "8",
         "63",
         "98",
         "0",
         "2",
         "0"
        ],
        [
         "22",
         "10",
         "81",
         "64",
         "0",
         "3",
         "0"
        ],
        [
         "23",
         "2",
         "95",
         "30",
         "0",
         "1",
         "1"
        ],
        [
         "24",
         "7",
         "56",
         "58",
         "1",
         "3",
         "1"
        ],
        [
         "25",
         "10",
         "75",
         "58",
         "0",
         "2",
         "1"
        ],
        [
         "26",
         "4",
         "112",
         "46",
         "0",
         "3",
         "1"
        ],
        [
         "27",
         "11",
         "68",
         "56",
         "1",
         "3",
         "0"
        ],
        [
         "28",
         "7",
         "96",
         "62",
         "1",
         "0",
         "0"
        ],
        [
         "29",
         "8",
         "72",
         "64",
         "0",
         "2",
         "1"
        ],
        [
         "30",
         "7",
         "111",
         "44",
         "0",
         "2",
         "1"
        ],
        [
         "31",
         "19",
         "42",
         "74",
         "1",
         "0",
         "1"
        ],
        [
         "32",
         "9",
         "76",
         "89",
         "0",
         "0",
         "0"
        ],
        [
         "33",
         "4",
         "45",
         "69",
         "0",
         "2",
         "1"
        ],
        [
         "34",
         "14",
         "61",
         "81",
         "0",
         "3",
         "1"
        ],
        [
         "35",
         "3",
         "60",
         "67",
         "1",
         "4",
         "0"
        ],
        [
         "36",
         "11",
         "69",
         "49",
         "1",
         "4",
         "1"
        ],
        [
         "37",
         "0",
         "51",
         "69",
         "0",
         "4",
         "1"
        ],
        [
         "38",
         "3",
         "73",
         "57",
         "1",
         "4",
         "1"
        ],
        [
         "39",
         "11",
         "84",
         "48",
         "0",
         "4",
         "1"
        ],
        [
         "40",
         "9",
         "44",
         "63",
         "1",
         "4",
         "1"
        ],
        [
         "41",
         "10",
         "62",
         "77",
         "1",
         "1",
         "1"
        ],
        [
         "42",
         "9",
         "125",
         "59",
         "1",
         "0",
         "0"
        ],
        [
         "43",
         "8",
         "81",
         "94",
         "1",
         "1",
         "0"
        ],
        [
         "44",
         "2",
         "38",
         "79",
         "0",
         "2",
         "1"
        ],
        [
         "45",
         "6",
         "47",
         "56",
         "0",
         "3",
         "0"
        ],
        [
         "46",
         "7",
         "79",
         "56",
         "0",
         "2",
         "0"
        ],
        [
         "47",
         "15",
         "77",
         "97",
         "1",
         "3",
         "1"
        ],
        [
         "48",
         "11",
         "63",
         "60",
         "0",
         "0",
         "0"
        ],
        [
         "49",
         "1",
         "118",
         "70",
         "0",
         "4",
         "1"
        ]
       ],
       "shape": {
        "columns": 6,
        "rows": 40000
       }
      },
      "text/html": [
       "<div>\n",
       "<style scoped>\n",
       "    .dataframe tbody tr th:only-of-type {\n",
       "        vertical-align: middle;\n",
       "    }\n",
       "\n",
       "    .dataframe tbody tr th {\n",
       "        vertical-align: top;\n",
       "    }\n",
       "\n",
       "    .dataframe thead th {\n",
       "        text-align: right;\n",
       "    }\n",
       "</style>\n",
       "<table border=\"1\" class=\"dataframe\">\n",
       "  <thead>\n",
       "    <tr style=\"text-align: right;\">\n",
       "      <th></th>\n",
       "      <th>Study Hours per Week</th>\n",
       "      <th>Attendance Rate</th>\n",
       "      <th>Previous Grades</th>\n",
       "      <th>Participation in Extracurricular Activities</th>\n",
       "      <th>Parent Education Level</th>\n",
       "      <th>Passed</th>\n",
       "    </tr>\n",
       "  </thead>\n",
       "  <tbody>\n",
       "    <tr>\n",
       "      <th>0</th>\n",
       "      <td>12</td>\n",
       "      <td>75</td>\n",
       "      <td>75</td>\n",
       "      <td>1</td>\n",
       "      <td>4</td>\n",
       "      <td>1</td>\n",
       "    </tr>\n",
       "    <tr>\n",
       "      <th>1</th>\n",
       "      <td>9</td>\n",
       "      <td>95</td>\n",
       "      <td>60</td>\n",
       "      <td>0</td>\n",
       "      <td>3</td>\n",
       "      <td>0</td>\n",
       "    </tr>\n",
       "    <tr>\n",
       "      <th>2</th>\n",
       "      <td>13</td>\n",
       "      <td>75</td>\n",
       "      <td>64</td>\n",
       "      <td>0</td>\n",
       "      <td>0</td>\n",
       "      <td>0</td>\n",
       "    </tr>\n",
       "    <tr>\n",
       "      <th>3</th>\n",
       "      <td>17</td>\n",
       "      <td>76</td>\n",
       "      <td>62</td>\n",
       "      <td>1</td>\n",
       "      <td>1</td>\n",
       "      <td>0</td>\n",
       "    </tr>\n",
       "    <tr>\n",
       "      <th>4</th>\n",
       "      <td>8</td>\n",
       "      <td>89</td>\n",
       "      <td>72</td>\n",
       "      <td>0</td>\n",
       "      <td>4</td>\n",
       "      <td>0</td>\n",
       "    </tr>\n",
       "    <tr>\n",
       "      <th>...</th>\n",
       "      <td>...</td>\n",
       "      <td>...</td>\n",
       "      <td>...</td>\n",
       "      <td>...</td>\n",
       "      <td>...</td>\n",
       "      <td>...</td>\n",
       "    </tr>\n",
       "    <tr>\n",
       "      <th>39995</th>\n",
       "      <td>15</td>\n",
       "      <td>93</td>\n",
       "      <td>51</td>\n",
       "      <td>1</td>\n",
       "      <td>4</td>\n",
       "      <td>0</td>\n",
       "    </tr>\n",
       "    <tr>\n",
       "      <th>39996</th>\n",
       "      <td>11</td>\n",
       "      <td>66</td>\n",
       "      <td>64</td>\n",
       "      <td>0</td>\n",
       "      <td>2</td>\n",
       "      <td>1</td>\n",
       "    </tr>\n",
       "    <tr>\n",
       "      <th>39997</th>\n",
       "      <td>13</td>\n",
       "      <td>65</td>\n",
       "      <td>38</td>\n",
       "      <td>0</td>\n",
       "      <td>1</td>\n",
       "      <td>0</td>\n",
       "    </tr>\n",
       "    <tr>\n",
       "      <th>39998</th>\n",
       "      <td>14</td>\n",
       "      <td>74</td>\n",
       "      <td>65</td>\n",
       "      <td>1</td>\n",
       "      <td>4</td>\n",
       "      <td>0</td>\n",
       "    </tr>\n",
       "    <tr>\n",
       "      <th>39999</th>\n",
       "      <td>11</td>\n",
       "      <td>55</td>\n",
       "      <td>68</td>\n",
       "      <td>0</td>\n",
       "      <td>1</td>\n",
       "      <td>1</td>\n",
       "    </tr>\n",
       "  </tbody>\n",
       "</table>\n",
       "<p>40000 rows × 6 columns</p>\n",
       "</div>"
      ],
      "text/plain": [
       "       Study Hours per Week  Attendance Rate  Previous Grades  \\\n",
       "0                        12               75               75   \n",
       "1                         9               95               60   \n",
       "2                        13               75               64   \n",
       "3                        17               76               62   \n",
       "4                         8               89               72   \n",
       "...                     ...              ...              ...   \n",
       "39995                    15               93               51   \n",
       "39996                    11               66               64   \n",
       "39997                    13               65               38   \n",
       "39998                    14               74               65   \n",
       "39999                    11               55               68   \n",
       "\n",
       "       Participation in Extracurricular Activities  Parent Education Level  \\\n",
       "0                                                1                       4   \n",
       "1                                                0                       3   \n",
       "2                                                0                       0   \n",
       "3                                                1                       1   \n",
       "4                                                0                       4   \n",
       "...                                            ...                     ...   \n",
       "39995                                            1                       4   \n",
       "39996                                            0                       2   \n",
       "39997                                            0                       1   \n",
       "39998                                            1                       4   \n",
       "39999                                            0                       1   \n",
       "\n",
       "       Passed  \n",
       "0           1  \n",
       "1           0  \n",
       "2           0  \n",
       "3           0  \n",
       "4           0  \n",
       "...       ...  \n",
       "39995       0  \n",
       "39996       1  \n",
       "39997       0  \n",
       "39998       0  \n",
       "39999       1  \n",
       "\n",
       "[40000 rows x 6 columns]"
      ]
     },
     "execution_count": 33,
     "metadata": {},
     "output_type": "execute_result"
    }
   ],
   "source": [
    "df"
   ]
  },
  {
   "cell_type": "code",
   "execution_count": 34,
   "metadata": {},
   "outputs": [
    {
     "name": "stdout",
     "output_type": "stream",
     "text": [
      "The student is predicted to FAIL.\n"
     ]
    },
    {
     "name": "stderr",
     "output_type": "stream",
     "text": [
      "/home/jonah/.local/lib/python3.12/site-packages/sklearn/utils/validation.py:2739: UserWarning: X does not have valid feature names, but RandomForestClassifier was fitted with feature names\n",
      "  warnings.warn(\n"
     ]
    }
   ],
   "source": [
    "model = pickle.load(open('model.pkl', 'rb'))\n",
    "input_data = np.array([[17, 100, 100, 1, 4]])  \n",
    "# Predict\n",
    "prediction = model.predict(input_data)\n",
    "\n",
    "# Interpret the result\n",
    "if prediction[0] == 1:\n",
    "    print(\"The student is predicted to PASS.\")\n",
    "else:\n",
    "    print(\"The student is predicted to FAIL.\")"
   ]
  }
 ],
 "metadata": {
  "kernelspec": {
   "display_name": "Python 3",
   "language": "python",
   "name": "python3"
  },
  "language_info": {
   "codemirror_mode": {
    "name": "ipython",
    "version": 3
   },
   "file_extension": ".py",
   "mimetype": "text/x-python",
   "name": "python",
   "nbconvert_exporter": "python",
   "pygments_lexer": "ipython3",
   "version": "3.12.3"
  }
 },
 "nbformat": 4,
 "nbformat_minor": 2
}
