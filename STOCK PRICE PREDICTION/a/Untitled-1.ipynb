{
 "cells": [
  {
   "cell_type": "code",
   "execution_count": null,
   "metadata": {},
   "outputs": [],
   "source": [
    "# https://www.kaggle.com/datasets/claudiodaloiso/stock-data-of-googl-aapl-and-msft-2020-2025?select=GOOGL.csv"
   ]
  },
  {
   "cell_type": "code",
   "execution_count": 13,
   "metadata": {},
   "outputs": [],
   "source": [
    "import pandas as pd\n",
    "import numpy as np"
   ]
  },
  {
   "cell_type": "code",
   "execution_count": 14,
   "metadata": {},
   "outputs": [],
   "source": [
    "df = pd.read_csv(\"GOOGL.csv\")"
   ]
  },
  {
   "cell_type": "code",
   "execution_count": 15,
   "metadata": {},
   "outputs": [
    {
     "data": {
      "application/vnd.microsoft.datawrangler.viewer.v0+json": {
       "columns": [
        {
         "name": "index",
         "rawType": "int64",
         "type": "integer"
        },
        {
         "name": "Date",
         "rawType": "object",
         "type": "string"
        },
        {
         "name": "Close",
         "rawType": "float64",
         "type": "float"
        },
        {
         "name": "High",
         "rawType": "float64",
         "type": "float"
        },
        {
         "name": "Low",
         "rawType": "float64",
         "type": "float"
        },
        {
         "name": "Open",
         "rawType": "float64",
         "type": "float"
        },
        {
         "name": "Volume",
         "rawType": "int64",
         "type": "integer"
        }
       ],
       "conversionMethod": "pd.DataFrame",
       "ref": "a539f97b-00b0-47ea-96a4-04cc2bbeebfa",
       "rows": [
        [
         "0",
         "2020-01-02",
         "68.18681335449219",
         "68.18681335449219",
         "67.08132380627873",
         "67.176977721624",
         "27278000"
        ],
        [
         "1",
         "2020-01-03",
         "67.83010864257812",
         "68.43940351728152",
         "67.12267404619415",
         "67.15655543577822",
         "23408000"
        ],
        [
         "2",
         "2020-01-06",
         "69.63805389404297",
         "69.66345923216974",
         "67.30600805367692",
         "67.33738843542059",
         "46768000"
        ],
        [
         "3",
         "2020-01-07",
         "69.50354766845703",
         "69.92153470711604",
         "69.32669091744489",
         "69.77008329725511",
         "34330000"
        ],
        [
         "4",
         "2020-01-08",
         "69.99824523925781",
         "70.33751521494523",
         "69.3799878535832",
         "69.4890894151128",
         "35314000"
        ],
        [
         "5",
         "2020-01-09",
         "70.73308563232422",
         "71.17597625297427",
         "70.25581190329635",
         "70.83969379325514",
         "33200000"
        ],
        [
         "6",
         "2020-01-10",
         "71.18992614746094",
         "71.48784974028622",
         "70.72362186567442",
         "71.21533908846308",
         "26258000"
        ],
        [
         "7",
         "2020-01-13",
         "71.7414321899414",
         "71.81366484523728",
         "71.01107809709713",
         "71.50328944184061",
         "30730000"
        ],
        [
         "8",
         "2020-01-14",
         "71.2711410522461",
         "71.8709640363411",
         "71.13064389247113",
         "71.73993876603046",
         "26076000"
        ],
        [
         "9",
         "2020-01-15",
         "71.70008087158203",
         "71.77879789678663",
         "71.32444368341595",
         "71.39219885923909",
         "21550000"
        ],
        [
         "10",
         "2020-01-16",
         "72.24610900878906",
         "72.27301191223528",
         "71.73994064880996",
         "72.0114554841839",
         "26080000"
        ],
        [
         "11",
         "2020-01-17",
         "73.70880126953125",
         "73.76011367358568",
         "72.56445103890334",
         "72.86286877720866",
         "52424000"
        ],
        [
         "12",
         "2020-01-21",
         "73.84480285644531",
         "74.22492509167162",
         "73.24497234103121",
         "73.6828837377684",
         "48930000"
        ],
        [
         "13",
         "2020-01-22",
         "73.92550659179688",
         "74.75799134476836",
         "73.8652316275804",
         "74.21745513521142",
         "28458000"
        ],
        [
         "14",
         "2020-01-23",
         "73.96636199951172",
         "74.4052768729522",
         "73.74865298533626",
         "74.10885083507527",
         "26650000"
        ],
        [
         "15",
         "2020-01-24",
         "73.04371643066406",
         "74.44015119797305",
         "72.89475082044622",
         "74.37140017843792",
         "29786000"
        ],
        [
         "16",
         "2020-01-27",
         "71.32793426513672",
         "71.56955866813779",
         "70.71863939255725",
         "71.31846997752507",
         "34132000"
        ],
        [
         "17",
         "2020-01-28",
         "72.26304626464844",
         "72.47726605072009",
         "71.25967970809778",
         "71.82662476293184",
         "29724000"
        ],
        [
         "18",
         "2020-01-29",
         "72.5719223022461",
         "72.94258029676281",
         "72.00846650513019",
         "72.65960189593662",
         "21566000"
        ],
        [
         "19",
         "2020-01-30",
         "72.44985961914062",
         "72.49967445504653",
         "71.49083470637075",
         "71.64527362080143",
         "27110000"
        ],
        [
         "20",
         "2020-01-31",
         "71.38024139404297",
         "73.21807678829367",
         "71.09527131841374",
         "73.12790379399927",
         "43822000"
        ],
        [
         "21",
         "2020-02-03",
         "73.86223602294922",
         "74.04657296301339",
         "72.56743036798406",
         "72.81851903680833",
         "71636000"
        ],
        [
         "22",
         "2020-02-04",
         "72.00946044921875",
         "73.10199650551328",
         "70.84468413309284",
         "72.46182298123878",
         "95880000"
        ],
        [
         "23",
         "2020-02-05",
         "72.04134368896484",
         "72.96449562114519",
         "71.22580336725193",
         "72.91617074068874",
         "36376000"
        ],
        [
         "24",
         "2020-02-06",
         "73.53193664550781",
         "73.81042993755283",
         "72.26204220223194",
         "72.33676825821126",
         "37822000"
        ],
        [
         "25",
         "2020-02-07",
         "73.6883773803711",
         "73.9942677344084",
         "73.00585396908144",
         "73.10449541727816",
         "28360000"
        ],
        [
         "26",
         "2020-02-10",
         "75.16053771972656",
         "75.17149956935405",
         "73.4935839944387",
         "73.59471884010038",
         "38302000"
        ],
        [
         "27",
         "2020-02-11",
         "75.23028564453125",
         "76.21771113263144",
         "75.00061892772216",
         "75.39020550159178",
         "34852000"
        ],
        [
         "28",
         "2020-02-12",
         "75.65724182128906",
         "75.74043633057408",
         "75.16103948219266",
         "75.51923806383654",
         "31042000"
        ],
        [
         "29",
         "2020-02-13",
         "75.39618682861328",
         "76.02191687395778",
         "74.92837735428414",
         "75.22729680616945",
         "22914000"
        ],
        [
         "30",
         "2020-02-14",
         "75.66221618652344",
         "75.72797967828164",
         "75.00559231326048",
         "75.45297562350825",
         "23198000"
        ],
        [
         "31",
         "2020-02-18",
         "75.69759368896484",
         "76.25158520613671",
         "75.27761496690005",
         "75.4435174707526",
         "25642000"
        ],
        [
         "32",
         "2020-02-19",
         "75.96810913085938",
         "76.2605518097851",
         "75.77431549389932",
         "76.08418918563441",
         "22746000"
        ],
        [
         "33",
         "2020-02-20",
         "75.57553100585938",
         "76.07770834757048",
         "74.94132496189518",
         "75.67616412195946",
         "25962000"
        ],
        [
         "34",
         "2020-02-21",
         "73.90508270263672",
         "75.27462206552566",
         "73.6574832677561",
         "74.95726817378268",
         "42520000"
        ],
        [
         "35",
         "2020-02-24",
         "70.736572265625",
         "71.55959279941615",
         "70.08543687850549",
         "70.89549627943762",
         "49560000"
        ],
        [
         "36",
         "2020-02-25",
         "69.06563568115234",
         "71.58300697779833",
         "68.77170303202607",
         "71.29156773137504",
         "51580000"
        ],
        [
         "37",
         "2020-02-26",
         "69.27238464355469",
         "70.42819845561333",
         "68.57889939705458",
         "69.49707216060908",
         "49776000"
        ],
        [
         "38",
         "2020-02-27",
         "65.51001739501953",
         "68.2226873655206",
         "65.4746460468317",
         "67.7115398365822",
         "62290000"
        ],
        [
         "39",
         "2020-02-28",
         "66.72063446044922",
         "66.88005259105421",
         "63.18146225933805",
         "63.48536091019855",
         "80198000"
        ],
        [
         "40",
         "2020-03-02",
         "69.06563568115234",
         "69.1229231286208",
         "66.02067405586332",
         "67.32544584408515",
         "55430000"
        ],
        [
         "41",
         "2020-03-03",
         "66.6444091796875",
         "70.15518082920593",
         "66.22193708069483",
         "69.63158149075487",
         "56602000"
        ],
        [
         "42",
         "2020-03-04",
         "68.83049011230469",
         "68.88927512353104",
         "66.60854135808763",
         "67.7025750397975",
         "47598000"
        ],
        [
         "43",
         "2020-03-05",
         "65.50055694580078",
         "67.4370414491301",
         "64.84692814514692",
         "67.03449374191095",
         "54380000"
        ],
        [
         "44",
         "2020-03-06",
         "64.55299377441406",
         "64.90222218354712",
         "62.63345001724397",
         "63.26815022542305",
         "64640000"
        ],
        [
         "45",
         "2020-03-09",
         "60.56993103027344",
         "62.4102598340368",
         "59.68563589792192",
         "60.03038682352592",
         "69252000"
        ],
        [
         "46",
         "2020-03-10",
         "63.52820587158203",
         "63.56208346017073",
         "60.5061600095972",
         "62.49296104143068",
         "54872000"
        ],
        [
         "47",
         "2020-03-11",
         "60.32630920410156",
         "62.61949838943698",
         "59.34187890099212",
         "62.18806372644597",
         "54732000"
        ],
        [
         "48",
         "2020-03-12",
         "55.37675476074219",
         "59.22281313910036",
         "55.22331167410478",
         "55.92825665674984",
         "94326000"
        ],
        [
         "49",
         "2020-03-13",
         "60.49420547485352",
         "60.500682240290445",
         "55.41362009523488",
         "58.537298689662194",
         "79400000"
        ]
       ],
       "shape": {
        "columns": 6,
        "rows": 1258
       }
      },
      "text/html": [
       "<div>\n",
       "<style scoped>\n",
       "    .dataframe tbody tr th:only-of-type {\n",
       "        vertical-align: middle;\n",
       "    }\n",
       "\n",
       "    .dataframe tbody tr th {\n",
       "        vertical-align: top;\n",
       "    }\n",
       "\n",
       "    .dataframe thead th {\n",
       "        text-align: right;\n",
       "    }\n",
       "</style>\n",
       "<table border=\"1\" class=\"dataframe\">\n",
       "  <thead>\n",
       "    <tr style=\"text-align: right;\">\n",
       "      <th></th>\n",
       "      <th>Date</th>\n",
       "      <th>Close</th>\n",
       "      <th>High</th>\n",
       "      <th>Low</th>\n",
       "      <th>Open</th>\n",
       "      <th>Volume</th>\n",
       "    </tr>\n",
       "  </thead>\n",
       "  <tbody>\n",
       "    <tr>\n",
       "      <th>0</th>\n",
       "      <td>2020-01-02</td>\n",
       "      <td>68.186813</td>\n",
       "      <td>68.186813</td>\n",
       "      <td>67.081324</td>\n",
       "      <td>67.176978</td>\n",
       "      <td>27278000</td>\n",
       "    </tr>\n",
       "    <tr>\n",
       "      <th>1</th>\n",
       "      <td>2020-01-03</td>\n",
       "      <td>67.830109</td>\n",
       "      <td>68.439404</td>\n",
       "      <td>67.122674</td>\n",
       "      <td>67.156555</td>\n",
       "      <td>23408000</td>\n",
       "    </tr>\n",
       "    <tr>\n",
       "      <th>2</th>\n",
       "      <td>2020-01-06</td>\n",
       "      <td>69.638054</td>\n",
       "      <td>69.663459</td>\n",
       "      <td>67.306008</td>\n",
       "      <td>67.337388</td>\n",
       "      <td>46768000</td>\n",
       "    </tr>\n",
       "    <tr>\n",
       "      <th>3</th>\n",
       "      <td>2020-01-07</td>\n",
       "      <td>69.503548</td>\n",
       "      <td>69.921535</td>\n",
       "      <td>69.326691</td>\n",
       "      <td>69.770083</td>\n",
       "      <td>34330000</td>\n",
       "    </tr>\n",
       "    <tr>\n",
       "      <th>4</th>\n",
       "      <td>2020-01-08</td>\n",
       "      <td>69.998245</td>\n",
       "      <td>70.337515</td>\n",
       "      <td>69.379988</td>\n",
       "      <td>69.489089</td>\n",
       "      <td>35314000</td>\n",
       "    </tr>\n",
       "    <tr>\n",
       "      <th>...</th>\n",
       "      <td>...</td>\n",
       "      <td>...</td>\n",
       "      <td>...</td>\n",
       "      <td>...</td>\n",
       "      <td>...</td>\n",
       "      <td>...</td>\n",
       "    </tr>\n",
       "    <tr>\n",
       "      <th>1253</th>\n",
       "      <td>2024-12-24</td>\n",
       "      <td>196.110001</td>\n",
       "      <td>196.110001</td>\n",
       "      <td>193.779999</td>\n",
       "      <td>194.839996</td>\n",
       "      <td>10403300</td>\n",
       "    </tr>\n",
       "    <tr>\n",
       "      <th>1254</th>\n",
       "      <td>2024-12-26</td>\n",
       "      <td>195.600006</td>\n",
       "      <td>196.750000</td>\n",
       "      <td>194.380005</td>\n",
       "      <td>195.149994</td>\n",
       "      <td>12046600</td>\n",
       "    </tr>\n",
       "    <tr>\n",
       "      <th>1255</th>\n",
       "      <td>2024-12-27</td>\n",
       "      <td>192.759995</td>\n",
       "      <td>195.320007</td>\n",
       "      <td>190.649994</td>\n",
       "      <td>194.949997</td>\n",
       "      <td>18891400</td>\n",
       "    </tr>\n",
       "    <tr>\n",
       "      <th>1256</th>\n",
       "      <td>2024-12-30</td>\n",
       "      <td>191.240005</td>\n",
       "      <td>192.550003</td>\n",
       "      <td>189.119995</td>\n",
       "      <td>189.800003</td>\n",
       "      <td>14264700</td>\n",
       "    </tr>\n",
       "    <tr>\n",
       "      <th>1257</th>\n",
       "      <td>2024-12-31</td>\n",
       "      <td>189.300003</td>\n",
       "      <td>191.960007</td>\n",
       "      <td>188.509995</td>\n",
       "      <td>191.080002</td>\n",
       "      <td>17466900</td>\n",
       "    </tr>\n",
       "  </tbody>\n",
       "</table>\n",
       "<p>1258 rows × 6 columns</p>\n",
       "</div>"
      ],
      "text/plain": [
       "            Date       Close        High         Low        Open    Volume\n",
       "0     2020-01-02   68.186813   68.186813   67.081324   67.176978  27278000\n",
       "1     2020-01-03   67.830109   68.439404   67.122674   67.156555  23408000\n",
       "2     2020-01-06   69.638054   69.663459   67.306008   67.337388  46768000\n",
       "3     2020-01-07   69.503548   69.921535   69.326691   69.770083  34330000\n",
       "4     2020-01-08   69.998245   70.337515   69.379988   69.489089  35314000\n",
       "...          ...         ...         ...         ...         ...       ...\n",
       "1253  2024-12-24  196.110001  196.110001  193.779999  194.839996  10403300\n",
       "1254  2024-12-26  195.600006  196.750000  194.380005  195.149994  12046600\n",
       "1255  2024-12-27  192.759995  195.320007  190.649994  194.949997  18891400\n",
       "1256  2024-12-30  191.240005  192.550003  189.119995  189.800003  14264700\n",
       "1257  2024-12-31  189.300003  191.960007  188.509995  191.080002  17466900\n",
       "\n",
       "[1258 rows x 6 columns]"
      ]
     },
     "execution_count": 15,
     "metadata": {},
     "output_type": "execute_result"
    }
   ],
   "source": [
    "df"
   ]
  },
  {
   "cell_type": "code",
   "execution_count": 16,
   "metadata": {},
   "outputs": [],
   "source": [
    "df['SMA_10'] = df['Close'].rolling(window=10).mean()\n",
    "df['SMA_50'] = df['Close'].rolling(window=50).mean()"
   ]
  },
  {
   "cell_type": "code",
   "execution_count": 17,
   "metadata": {},
   "outputs": [],
   "source": [
    "df['Prev_Close'] = df['Close'].shift(1)"
   ]
  },
  {
   "cell_type": "code",
   "execution_count": 18,
   "metadata": {},
   "outputs": [],
   "source": [
    "df['Daily_Change'] = df.Close - df['Prev_Close']"
   ]
  },
  {
   "cell_type": "code",
   "execution_count": 19,
   "metadata": {},
   "outputs": [],
   "source": [
    "df.dropna(inplace=True) "
   ]
  },
  {
   "cell_type": "code",
   "execution_count": 20,
   "metadata": {},
   "outputs": [
    {
     "data": {
      "text/plain": [
       "Date            0\n",
       "Close           0\n",
       "High            0\n",
       "Low             0\n",
       "Open            0\n",
       "Volume          0\n",
       "SMA_10          0\n",
       "SMA_50          0\n",
       "Prev_Close      0\n",
       "Daily_Change    0\n",
       "dtype: int64"
      ]
     },
     "execution_count": 20,
     "metadata": {},
     "output_type": "execute_result"
    }
   ],
   "source": [
    "df.isna().sum()"
   ]
  },
  {
   "cell_type": "code",
   "execution_count": 21,
   "metadata": {},
   "outputs": [
    {
     "name": "stdout",
     "output_type": "stream",
     "text": [
      "Training samples: 967, Testing samples: 242\n"
     ]
    }
   ],
   "source": [
    "import pandas as pd\n",
    "from sklearn.model_selection import train_test_split\n",
    "from sklearn.preprocessing import StandardScaler\n",
    "\n",
    "# Ensure no missing values\n",
    "df.dropna(inplace=True)\n",
    "\n",
    "# Define Features and Target\n",
    "features = ['SMA_10', 'SMA_50', 'Prev_Close', 'Daily_Change']  # Features used for prediction\n",
    "target = 'Close'  # Target variable (Stock Price)\n",
    "\n",
    "X = df[features]\n",
    "y = df[target]\n",
    "\n",
    "# Split Data (80% Training, 20% Testing)\n",
    "X_train, X_test, y_train, y_test = train_test_split(X, y, test_size=0.2, shuffle=False, random_state=42)\n",
    "\n",
    "# Standardize Features (optional for better convergence)\n",
    "scaler = StandardScaler()\n",
    "X_train = scaler.fit_transform(X_train)\n",
    "X_test = scaler.transform(X_test)\n",
    "\n",
    "print(f\"Training samples: {len(X_train)}, Testing samples: {len(X_test)}\")\n"
   ]
  },
  {
   "cell_type": "code",
   "execution_count": 22,
   "metadata": {},
   "outputs": [],
   "source": [
    "from sklearn.linear_model import LinearRegression\n",
    "\n",
    "# Train the model\n",
    "lr_model = LinearRegression()\n",
    "lr_model.fit(X_train, y_train)\n",
    "\n",
    "# Make Predictions\n",
    "y_pred_lr = lr_model.predict(X_test)\n"
   ]
  },
  {
   "cell_type": "code",
   "execution_count": 23,
   "metadata": {},
   "outputs": [
    {
     "name": "stdout",
     "output_type": "stream",
     "text": [
      "Linear Regression - Mean Absolute Error (MAE): 0.00\n",
      "Linear Regression - Root Mean Squared Error (RMSE): 0.00\n"
     ]
    }
   ],
   "source": [
    "from sklearn.metrics import mean_absolute_error, mean_squared_error\n",
    "import numpy as np\n",
    "\n",
    "# Calculate Errors\n",
    "mae_lr = mean_absolute_error(y_test, y_pred_lr)\n",
    "rmse_lr = np.sqrt(mean_squared_error(y_test, y_pred_lr))\n",
    "\n",
    "print(f\"Linear Regression - Mean Absolute Error (MAE): {mae_lr:.2f}\")\n",
    "print(f\"Linear Regression - Root Mean Squared Error (RMSE): {rmse_lr:.2f}\")\n"
   ]
  },
  {
   "cell_type": "code",
   "execution_count": 24,
   "metadata": {},
   "outputs": [
    {
     "data": {
      "text/plain": [
       "1016    140.959030\n",
       "1017    142.961761\n",
       "1018    145.851288\n",
       "1019    145.462692\n",
       "1020    146.508881\n",
       "           ...    \n",
       "1253    196.110001\n",
       "1254    195.600006\n",
       "1255    192.759995\n",
       "1256    191.240005\n",
       "1257    189.300003\n",
       "Name: Close, Length: 242, dtype: float64"
      ]
     },
     "execution_count": 24,
     "metadata": {},
     "output_type": "execute_result"
    }
   ],
   "source": [
    "y_test"
   ]
  },
  {
   "cell_type": "code",
   "execution_count": 25,
   "metadata": {},
   "outputs": [
    {
     "data": {
      "image/png": "[encoded data removed]",
      "text/plain": [
       "<Figure size 1500x600 with 1 Axes>"
      ]
     },
     "metadata": {},
     "output_type": "display_data"
    }
   ],
   "source": [
    "import matplotlib.pyplot as plt\n",
    "\n",
    "plt.figure(figsize=(15, 6))\n",
    "plt.plot(y_test.index, y_test, label=\"Actual Prices\", color='blue')\n",
    "plt.plot(y_test.index, y_pred_lr, label=\"Predicted Prices (Linear Regression)\", color='orange')\n",
    "plt.legend()\n",
    "plt.title(\"Stock Price Prediction - Linear Regression\")\n",
    "plt.xlabel(\"Date\")\n",
    "plt.ylabel(\"Stock Price\")\n",
    "plt.show()\n"
   ]
  }
 ],
 "metadata": {
  "kernelspec": {
   "display_name": "Python 3",
   "language": "python",
   "name": "python3"
  },
  "language_info": {
   "codemirror_mode": {
    "name": "ipython",
    "version": 3
   },
   "file_extension": ".py",
   "mimetype": "text/x-python",
   "name": "python",
   "nbconvert_exporter": "python",
   "pygments_lexer": "ipython3",
   "version": "3.12.3"
  }
 },
 "nbformat": 4,
 "nbformat_minor": 2
}
