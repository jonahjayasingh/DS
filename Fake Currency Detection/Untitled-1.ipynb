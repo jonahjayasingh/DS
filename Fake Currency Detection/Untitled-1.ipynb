{
 "cells": [
  {
   "cell_type": "code",
   "execution_count": null,
   "metadata": {},
   "outputs": [],
   "source": [
    "from tensorflow.keras.preprocessing.image import ImageDataGenerator"
   ]
  },
  {
   "cell_type": "code",
   "execution_count": null,
   "metadata": {},
   "outputs": [],
   "source": [
    "train_datagen = ImageDataGenerator(\n",
    "    rescale=1./255,\n",
    "    validation_split=0.2,\n",
    "    rotation_range=20,  # Rotate images slightly\n",
    "    width_shift_range=0.2,  # Shift images horizontally\n",
    "    height_shift_range=0.2,  # Shift images vertically\n",
    "    shear_range=0.2,  # Shear effect\n",
    "    zoom_range=0.2,  # Zoom into images\n",
    "    horizontal_flip=True  # Flip images horizontally\n",
    ")\n"
   ]
  },
  {
   "cell_type": "code",
   "execution_count": null,
   "metadata": {},
   "outputs": [],
   "source": [
    "train_generator = train_datagen.flow_from_directory(\n",
    "    'Dataset',  # Path to dataset\n",
    "    target_size=(224, 224),  # Ensure input matches model shape\n",
    "    batch_size=32,\n",
    "    class_mode='binary',\n",
    "    subset='training'\n",
    ")\n",
    "\n",
    "validation_generator = train_datagen.flow_from_directory(\n",
    "    'Dataset',  # Path to dataset\n",
    "    target_size=(224, 224),  # Ensure input matches model shape\n",
    "    batch_size=32,\n",
    "    class_mode='binary',\n",
    "    subset='validation'\n",
    ")\n"
   ]
  },
  {
   "cell_type": "code",
   "execution_count": null,
   "metadata": {},
   "outputs": [],
   "source": [
    "import tensorflow as tf\n",
    "from tensorflow.keras.models import Sequential\n",
    "from tensorflow.keras.layers import Conv2D, MaxPooling2D, Flatten, Dense\n",
    "from tensorflow.keras.preprocessing.image import ImageDataGenerator\n",
    "import numpy as np"
   ]
  },
  {
   "cell_type": "code",
   "execution_count": null,
   "metadata": {},
   "outputs": [],
   "source": [
    "import numpy as np\n",
    "import tensorflow as tf\n",
    "from tensorflow.keras.models import Sequential\n",
    "from tensorflow.keras.layers import Conv2D, MaxPooling2D, Flatten, Dense, Dropout\n",
    "\n",
    "# Step 4: Build the model\n",
    "model = Sequential([\n",
    "    Conv2D(32, (3, 3), activation='relu', input_shape=(224, 224, 3)),\n",
    "    MaxPooling2D(2, 2),\n",
    "    \n",
    "    Conv2D(64, (3, 3), activation='relu'),\n",
    "    MaxPooling2D(2, 2),\n",
    "    \n",
    "    Conv2D(128, (3, 3), activation='relu'),\n",
    "    MaxPooling2D(2, 2),\n",
    "    \n",
    "    Flatten(),\n",
    "    Dense(512, activation='relu'),\n",
    "    Dropout(0.5),\n",
    "    Dense(4, activation='softmax')  # 4 classes\n",
    "])\n",
    "\n",
    "# Compile the model for multi-class classification\n",
    "model.compile(\n",
    "    loss='sparse_categorical_crossentropy',  # Change from binary to categorical loss\n",
    "    optimizer='adam',\n",
    "    metrics=['accuracy']\n",
    ")\n",
    "\n",
    "\n",
    "train_steps_per_epoch = int(np.ceil(train_generator.samples / train_generator.batch_size))\n",
    "validation_steps_per_epoch = int(np.ceil(validation_generator.samples / validation_generator.batch_size))\n",
    "\n",
    "# Train the model\n",
    "history = model.fit(\n",
    "    train_generator,\n",
    "    steps_per_epoch=train_steps_per_epoch,\n",
    "    epochs=15,\n",
    "    validation_data=validation_generator,\n",
    "    validation_steps=validation_steps_per_epoch,\n",
    "    verbose=2\n",
    ")\n"
   ]
  },
  {
   "cell_type": "code",
   "execution_count": null,
   "metadata": {},
   "outputs": [],
   "source": [
    "tf.keras.backend.clear_session(\n",
    "    free_memory=True\n",
    ")\n"
   ]
  },
  {
   "cell_type": "code",
   "execution_count": null,
   "metadata": {},
   "outputs": [],
   "source": [
    "# Save the model\n",
    "model.save('check.h5')\n"
   ]
  },
  {
   "cell_type": "code",
   "execution_count": null,
   "metadata": {},
   "outputs": [],
   "source": [
    "print(model.input_shape)\n"
   ]
  },
  {
   "cell_type": "code",
   "execution_count": null,
   "metadata": {},
   "outputs": [],
   "source": [
    "import numpy as np\n",
    "import os\n",
    "from tensorflow.keras.models import load_model\n",
    "from tensorflow.keras.preprocessing.image import img_to_array\n",
    "from PIL import Image\n",
    "\n",
    "# Load the trained model\n",
    "model_path = 'check.h5'  # Ensure the model file exists\n",
    "if not os.path.exists(model_path):\n",
    "    print(f\"❌ Error: Model file '{model_path}' not found.\")\n",
    "    exit(1)\n",
    "\n",
    "try:\n",
    "    model = load_model(model_path)\n",
    "    print(\"✅ Model loaded successfully.\")\n",
    "except Exception as e:\n",
    "    print(f\"❌ Error loading model: {e}\")\n",
    "    exit(1)\n",
    "\n",
    "# Function to preprocess and predict currency authenticity\n",
    "def predict_currency(image_path):\n",
    "    \"\"\" Reads an image file, preprocesses it, and predicts if it's REAL or FAKE. \"\"\"\n",
    "    try:\n",
    "        if not os.path.exists(image_path):\n",
    "            return f\"❌ Error: File '{image_path}' does not exist.\"\n",
    "\n",
    "        # Load and preprocess the image\n",
    "        img = Image.open(image_path).convert('RGB')  # Ensure 3 color channels\n",
    "        img = img.resize((224, 224))  # Resize to match model input size\n",
    "        img = img_to_array(img) / 255.0  # Normalize pixel values\n",
    "        img = np.expand_dims(img, axis=0)  # Add batch dimension\n",
    "\n",
    "        # Make prediction\n",
    "        prediction = model.predict(img)[0][0]  # Extract prediction value\n",
    "        confidence = prediction * 100  # Convert to percentage\n",
    "        label = \"REAL\" if prediction > 0.5 else \"FAKE\"\n",
    "\n",
    "        return f\"🔹 Prediction: {label} ({confidence:.2f}% confidence)\"\n",
    "    \n",
    "    except Exception as e:\n",
    "        return f\"❌ Error processing image: {e}\"\n",
    "\n",
    "\n",
    "# Ask for an image file path\n",
    "image_path = input(\"Enter the image file path: \").strip()\n",
    "\n",
    "if image_path:\n",
    "    result = predict_currency(image_path)\n",
    "    print(result)\n",
    "else:\n",
    "    print(\"❌ No file path provided.\")\n"
   ]
  }
 ],
 "metadata": {
  "kernelspec": {
   "display_name": "Python 3",
   "language": "python",
   "name": "python3"
  },
  "language_info": {
   "codemirror_mode": {
    "name": "ipython",
    "version": 3
   },
   "file_extension": ".py",
   "mimetype": "text/x-python",
   "name": "python",
   "nbconvert_exporter": "python",
   "pygments_lexer": "ipython3",
   "version": "3.12.3"
  }
 },
 "nbformat": 4,
 "nbformat_minor": 2
}
